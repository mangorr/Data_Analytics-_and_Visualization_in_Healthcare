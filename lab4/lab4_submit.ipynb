{
 "cells": [
  {
   "cell_type": "code",
   "execution_count": 74,
   "id": "a9337664",
   "metadata": {},
   "outputs": [],
   "source": [
    "import pandas as pd\n",
    "import scipy.stats as stats\n",
    "import statsmodels.api as sm\n",
    "import numpy as np"
   ]
  },
  {
   "cell_type": "code",
   "execution_count": 78,
   "id": "77bbcbfb",
   "metadata": {},
   "outputs": [
    {
     "data": {
      "text/html": [
       "<div>\n",
       "<style scoped>\n",
       "    .dataframe tbody tr th:only-of-type {\n",
       "        vertical-align: middle;\n",
       "    }\n",
       "\n",
       "    .dataframe tbody tr th {\n",
       "        vertical-align: top;\n",
       "    }\n",
       "\n",
       "    .dataframe thead th {\n",
       "        text-align: right;\n",
       "    }\n",
       "</style>\n",
       "<table border=\"1\" class=\"dataframe\">\n",
       "  <thead>\n",
       "    <tr style=\"text-align: right;\">\n",
       "      <th></th>\n",
       "      <th>preg</th>\n",
       "      <th>plas</th>\n",
       "      <th>pres</th>\n",
       "      <th>skin</th>\n",
       "      <th>insu</th>\n",
       "      <th>mass</th>\n",
       "      <th>pedi</th>\n",
       "      <th>age</th>\n",
       "      <th>label</th>\n",
       "    </tr>\n",
       "  </thead>\n",
       "  <tbody>\n",
       "    <tr>\n",
       "      <th>0</th>\n",
       "      <td>6</td>\n",
       "      <td>148</td>\n",
       "      <td>72</td>\n",
       "      <td>35</td>\n",
       "      <td>0</td>\n",
       "      <td>33.6</td>\n",
       "      <td>0.627</td>\n",
       "      <td>50</td>\n",
       "      <td>tested_positive</td>\n",
       "    </tr>\n",
       "    <tr>\n",
       "      <th>1</th>\n",
       "      <td>1</td>\n",
       "      <td>85</td>\n",
       "      <td>66</td>\n",
       "      <td>29</td>\n",
       "      <td>0</td>\n",
       "      <td>26.6</td>\n",
       "      <td>0.351</td>\n",
       "      <td>31</td>\n",
       "      <td>tested_negative</td>\n",
       "    </tr>\n",
       "    <tr>\n",
       "      <th>2</th>\n",
       "      <td>8</td>\n",
       "      <td>183</td>\n",
       "      <td>64</td>\n",
       "      <td>0</td>\n",
       "      <td>0</td>\n",
       "      <td>23.3</td>\n",
       "      <td>0.672</td>\n",
       "      <td>32</td>\n",
       "      <td>tested_positive</td>\n",
       "    </tr>\n",
       "    <tr>\n",
       "      <th>3</th>\n",
       "      <td>1</td>\n",
       "      <td>89</td>\n",
       "      <td>66</td>\n",
       "      <td>23</td>\n",
       "      <td>94</td>\n",
       "      <td>28.1</td>\n",
       "      <td>0.167</td>\n",
       "      <td>21</td>\n",
       "      <td>tested_negative</td>\n",
       "    </tr>\n",
       "    <tr>\n",
       "      <th>4</th>\n",
       "      <td>0</td>\n",
       "      <td>137</td>\n",
       "      <td>40</td>\n",
       "      <td>35</td>\n",
       "      <td>168</td>\n",
       "      <td>43.1</td>\n",
       "      <td>2.288</td>\n",
       "      <td>33</td>\n",
       "      <td>tested_positive</td>\n",
       "    </tr>\n",
       "  </tbody>\n",
       "</table>\n",
       "</div>"
      ],
      "text/plain": [
       "   preg  plas  pres  skin  insu  mass   pedi  age            label\n",
       "0     6   148    72    35     0  33.6  0.627   50  tested_positive\n",
       "1     1    85    66    29     0  26.6  0.351   31  tested_negative\n",
       "2     8   183    64     0     0  23.3  0.672   32  tested_positive\n",
       "3     1    89    66    23    94  28.1  0.167   21  tested_negative\n",
       "4     0   137    40    35   168  43.1  2.288   33  tested_positive"
      ]
     },
     "execution_count": 78,
     "metadata": {},
     "output_type": "execute_result"
    }
   ],
   "source": [
    "# https://datahub.io/machine-learning/diabetes\n",
    "\n",
    "diabetes_df = pd.read_csv(\"diabetes_csv.csv\")\n",
    "diabetes_df.head()"
   ]
  },
  {
   "cell_type": "code",
   "execution_count": 80,
   "id": "24eccacc",
   "metadata": {},
   "outputs": [
    {
     "data": {
      "text/plain": [
       "preg       int64\n",
       "plas       int64\n",
       "pres       int64\n",
       "skin       int64\n",
       "insu       int64\n",
       "mass     float64\n",
       "pedi     float64\n",
       "age        int64\n",
       "label      int64\n",
       "dtype: object"
      ]
     },
     "execution_count": 80,
     "metadata": {},
     "output_type": "execute_result"
    }
   ],
   "source": [
    "diabetes_df['label'] = diabetes_df['label'].replace({\"tested_positive\":1, \"tested_negative\": 0})\n",
    "diabetes_df['label'].astype(str).astype(int)\n",
    "\n",
    "diabetes_df.dtypes"
   ]
  },
  {
   "cell_type": "markdown",
   "id": "ad80c427",
   "metadata": {},
   "source": [
    "# Simple Logistic Regression\n",
    "## dependent variable : label"
   ]
  },
  {
   "cell_type": "markdown",
   "id": "72a26a96",
   "metadata": {},
   "source": [
    "## label ~ preg"
   ]
  },
  {
   "cell_type": "code",
   "execution_count": 84,
   "id": "41900286",
   "metadata": {},
   "outputs": [
    {
     "name": "stdout",
     "output_type": "stream",
     "text": [
      "0      1\n",
      "1      0\n",
      "2      1\n",
      "3      0\n",
      "4      1\n",
      "      ..\n",
      "763    0\n",
      "764    0\n",
      "765    0\n",
      "766    1\n",
      "767    0\n",
      "Name: label, Length: 768, dtype: int64\n"
     ]
    },
    {
     "data": {
      "text/html": [
       "<table class=\"simpletable\">\n",
       "<caption>Generalized Linear Model Regression Results</caption>\n",
       "<tr>\n",
       "  <th>Dep. Variable:</th>         <td>label</td>      <th>  No. Observations:  </th>  <td>   768</td> \n",
       "</tr>\n",
       "<tr>\n",
       "  <th>Model:</th>                  <td>GLM</td>       <th>  Df Residuals:      </th>  <td>   766</td> \n",
       "</tr>\n",
       "<tr>\n",
       "  <th>Model Family:</th>        <td>Binomial</td>     <th>  Df Model:          </th>  <td>     1</td> \n",
       "</tr>\n",
       "<tr>\n",
       "  <th>Link Function:</th>         <td>logit</td>      <th>  Scale:             </th> <td>  1.0000</td>\n",
       "</tr>\n",
       "<tr>\n",
       "  <th>Method:</th>                <td>IRLS</td>       <th>  Log-Likelihood:    </th> <td> -478.10</td>\n",
       "</tr>\n",
       "<tr>\n",
       "  <th>Date:</th>            <td>Thu, 10 Nov 2022</td> <th>  Deviance:          </th> <td>  956.21</td>\n",
       "</tr>\n",
       "<tr>\n",
       "  <th>Time:</th>                <td>14:52:05</td>     <th>  Pearson chi2:      </th>  <td>  770.</td> \n",
       "</tr>\n",
       "<tr>\n",
       "  <th>No. Iterations:</th>          <td>4</td>        <th>                     </th>     <td> </td>   \n",
       "</tr>\n",
       "<tr>\n",
       "  <th>Covariance Type:</th>     <td>nonrobust</td>    <th>                     </th>     <td> </td>   \n",
       "</tr>\n",
       "</table>\n",
       "<table class=\"simpletable\">\n",
       "<tr>\n",
       "      <td></td>         <th>coef</th>     <th>std err</th>      <th>z</th>      <th>P>|z|</th>  <th>[0.025</th>    <th>0.975]</th>  \n",
       "</tr>\n",
       "<tr>\n",
       "  <th>Intercept</th> <td>   -1.1767</td> <td>    0.123</td> <td>   -9.558</td> <td> 0.000</td> <td>   -1.418</td> <td>   -0.935</td>\n",
       "</tr>\n",
       "<tr>\n",
       "  <th>preg</th>      <td>    0.1372</td> <td>    0.023</td> <td>    5.986</td> <td> 0.000</td> <td>    0.092</td> <td>    0.182</td>\n",
       "</tr>\n",
       "</table>"
      ],
      "text/plain": [
       "<class 'statsmodels.iolib.summary.Summary'>\n",
       "\"\"\"\n",
       "                 Generalized Linear Model Regression Results                  \n",
       "==============================================================================\n",
       "Dep. Variable:                  label   No. Observations:                  768\n",
       "Model:                            GLM   Df Residuals:                      766\n",
       "Model Family:                Binomial   Df Model:                            1\n",
       "Link Function:                  logit   Scale:                          1.0000\n",
       "Method:                          IRLS   Log-Likelihood:                -478.10\n",
       "Date:                Thu, 10 Nov 2022   Deviance:                       956.21\n",
       "Time:                        14:52:05   Pearson chi2:                     770.\n",
       "No. Iterations:                     4                                         \n",
       "Covariance Type:            nonrobust                                         \n",
       "==============================================================================\n",
       "                 coef    std err          z      P>|z|      [0.025      0.975]\n",
       "------------------------------------------------------------------------------\n",
       "Intercept     -1.1767      0.123     -9.558      0.000      -1.418      -0.935\n",
       "preg           0.1372      0.023      5.986      0.000       0.092       0.182\n",
       "==============================================================================\n",
       "\"\"\""
      ]
     },
     "execution_count": 84,
     "metadata": {},
     "output_type": "execute_result"
    }
   ],
   "source": [
    "print(diabetes_df.label)\n",
    "model = sm.GLM.from_formula(\"label ~ preg\", family = sm.families.Binomial(), data = diabetes_df)\n",
    "res = model.fit()\n",
    "res.summary()"
   ]
  },
  {
   "cell_type": "code",
   "execution_count": 85,
   "id": "6d454f45",
   "metadata": {},
   "outputs": [
    {
     "data": {
      "text/html": [
       "<div>\n",
       "<style scoped>\n",
       "    .dataframe tbody tr th:only-of-type {\n",
       "        vertical-align: middle;\n",
       "    }\n",
       "\n",
       "    .dataframe tbody tr th {\n",
       "        vertical-align: top;\n",
       "    }\n",
       "\n",
       "    .dataframe thead th {\n",
       "        text-align: right;\n",
       "    }\n",
       "</style>\n",
       "<table border=\"1\" class=\"dataframe\">\n",
       "  <thead>\n",
       "    <tr style=\"text-align: right;\">\n",
       "      <th></th>\n",
       "      <th>OddsRatio</th>\n",
       "      <th>P &gt;|z|</th>\n",
       "      <th>2.5%</th>\n",
       "      <th>97.5%</th>\n",
       "    </tr>\n",
       "  </thead>\n",
       "  <tbody>\n",
       "    <tr>\n",
       "      <th>Intercept</th>\n",
       "      <td>0.308279</td>\n",
       "      <td>1.205003e-21</td>\n",
       "      <td>0.242183</td>\n",
       "      <td>0.392415</td>\n",
       "    </tr>\n",
       "    <tr>\n",
       "      <th>preg</th>\n",
       "      <td>1.147008</td>\n",
       "      <td>2.147445e-09</td>\n",
       "      <td>1.096639</td>\n",
       "      <td>1.199691</td>\n",
       "    </tr>\n",
       "  </tbody>\n",
       "</table>\n",
       "</div>"
      ],
      "text/plain": [
       "           OddsRatio        P >|z|      2.5%     97.5%\n",
       "Intercept   0.308279  1.205003e-21  0.242183  0.392415\n",
       "preg        1.147008  2.147445e-09  1.096639  1.199691"
      ]
     },
     "execution_count": 85,
     "metadata": {},
     "output_type": "execute_result"
    }
   ],
   "source": [
    "model_stats = pd.DataFrame(np.exp(res.params), columns = [\"OddsRatio\"])\n",
    "model_stats[\"P >|z|\"] = res.pvalues\n",
    "model_stats[[\"2.5%\", \"97.5%\"]] = np.exp(res.conf_int())\n",
    "model_stats"
   ]
  },
  {
   "cell_type": "markdown",
   "id": "fa847988",
   "metadata": {},
   "source": [
    "log-odds = 0.308279 + 1.147008x\n",
    "p value of preg is 2.147445e-09 which is less than 0.05, so we reject the null hypothesis. Also, condidence interval of OR:[1.096639, 1.199691]does not contian 1. preg have siginificant effect on wether should have label."
   ]
  },
  {
   "cell_type": "markdown",
   "id": "651df795",
   "metadata": {},
   "source": [
    "# label ~ plas"
   ]
  },
  {
   "cell_type": "code",
   "execution_count": 86,
   "id": "001d0db6",
   "metadata": {},
   "outputs": [
    {
     "data": {
      "text/html": [
       "<table class=\"simpletable\">\n",
       "<caption>Generalized Linear Model Regression Results</caption>\n",
       "<tr>\n",
       "  <th>Dep. Variable:</th>         <td>label</td>      <th>  No. Observations:  </th>  <td>   768</td> \n",
       "</tr>\n",
       "<tr>\n",
       "  <th>Model:</th>                  <td>GLM</td>       <th>  Df Residuals:      </th>  <td>   766</td> \n",
       "</tr>\n",
       "<tr>\n",
       "  <th>Model Family:</th>        <td>Binomial</td>     <th>  Df Model:          </th>  <td>     1</td> \n",
       "</tr>\n",
       "<tr>\n",
       "  <th>Link Function:</th>         <td>logit</td>      <th>  Scale:             </th> <td>  1.0000</td>\n",
       "</tr>\n",
       "<tr>\n",
       "  <th>Method:</th>                <td>IRLS</td>       <th>  Log-Likelihood:    </th> <td> -404.36</td>\n",
       "</tr>\n",
       "<tr>\n",
       "  <th>Date:</th>            <td>Thu, 10 Nov 2022</td> <th>  Deviance:          </th> <td>  808.72</td>\n",
       "</tr>\n",
       "<tr>\n",
       "  <th>Time:</th>                <td>15:21:03</td>     <th>  Pearson chi2:      </th> <td>1.14e+03</td>\n",
       "</tr>\n",
       "<tr>\n",
       "  <th>No. Iterations:</th>          <td>5</td>        <th>                     </th>     <td> </td>   \n",
       "</tr>\n",
       "<tr>\n",
       "  <th>Covariance Type:</th>     <td>nonrobust</td>    <th>                     </th>     <td> </td>   \n",
       "</tr>\n",
       "</table>\n",
       "<table class=\"simpletable\">\n",
       "<tr>\n",
       "      <td></td>         <th>coef</th>     <th>std err</th>      <th>z</th>      <th>P>|z|</th>  <th>[0.025</th>    <th>0.975]</th>  \n",
       "</tr>\n",
       "<tr>\n",
       "  <th>Intercept</th> <td>   -5.3501</td> <td>    0.421</td> <td>  -12.713</td> <td> 0.000</td> <td>   -6.175</td> <td>   -4.525</td>\n",
       "</tr>\n",
       "<tr>\n",
       "  <th>plas</th>      <td>    0.0379</td> <td>    0.003</td> <td>   11.647</td> <td> 0.000</td> <td>    0.031</td> <td>    0.044</td>\n",
       "</tr>\n",
       "</table>"
      ],
      "text/plain": [
       "<class 'statsmodels.iolib.summary.Summary'>\n",
       "\"\"\"\n",
       "                 Generalized Linear Model Regression Results                  \n",
       "==============================================================================\n",
       "Dep. Variable:                  label   No. Observations:                  768\n",
       "Model:                            GLM   Df Residuals:                      766\n",
       "Model Family:                Binomial   Df Model:                            1\n",
       "Link Function:                  logit   Scale:                          1.0000\n",
       "Method:                          IRLS   Log-Likelihood:                -404.36\n",
       "Date:                Thu, 10 Nov 2022   Deviance:                       808.72\n",
       "Time:                        15:21:03   Pearson chi2:                 1.14e+03\n",
       "No. Iterations:                     5                                         \n",
       "Covariance Type:            nonrobust                                         \n",
       "==============================================================================\n",
       "                 coef    std err          z      P>|z|      [0.025      0.975]\n",
       "------------------------------------------------------------------------------\n",
       "Intercept     -5.3501      0.421    -12.713      0.000      -6.175      -4.525\n",
       "plas           0.0379      0.003     11.647      0.000       0.031       0.044\n",
       "==============================================================================\n",
       "\"\"\""
      ]
     },
     "execution_count": 86,
     "metadata": {},
     "output_type": "execute_result"
    }
   ],
   "source": [
    "model = sm.GLM.from_formula(\"label ~ plas\", family = sm.families.Binomial(), data = diabetes_df)\n",
    "res = model.fit()\n",
    "res.summary()"
   ]
  },
  {
   "cell_type": "code",
   "execution_count": 87,
   "id": "b60d0849",
   "metadata": {},
   "outputs": [
    {
     "data": {
      "text/html": [
       "<div>\n",
       "<style scoped>\n",
       "    .dataframe tbody tr th:only-of-type {\n",
       "        vertical-align: middle;\n",
       "    }\n",
       "\n",
       "    .dataframe tbody tr th {\n",
       "        vertical-align: top;\n",
       "    }\n",
       "\n",
       "    .dataframe thead th {\n",
       "        text-align: right;\n",
       "    }\n",
       "</style>\n",
       "<table border=\"1\" class=\"dataframe\">\n",
       "  <thead>\n",
       "    <tr style=\"text-align: right;\">\n",
       "      <th></th>\n",
       "      <th>OddsRatio</th>\n",
       "      <th>P &gt;|z|</th>\n",
       "      <th>2.5%</th>\n",
       "      <th>97.5%</th>\n",
       "    </tr>\n",
       "  </thead>\n",
       "  <tbody>\n",
       "    <tr>\n",
       "      <th>Intercept</th>\n",
       "      <td>0.004748</td>\n",
       "      <td>4.998114e-37</td>\n",
       "      <td>0.002081</td>\n",
       "      <td>0.010832</td>\n",
       "    </tr>\n",
       "    <tr>\n",
       "      <th>plas</th>\n",
       "      <td>1.038599</td>\n",
       "      <td>2.380722e-31</td>\n",
       "      <td>1.032001</td>\n",
       "      <td>1.045240</td>\n",
       "    </tr>\n",
       "  </tbody>\n",
       "</table>\n",
       "</div>"
      ],
      "text/plain": [
       "           OddsRatio        P >|z|      2.5%     97.5%\n",
       "Intercept   0.004748  4.998114e-37  0.002081  0.010832\n",
       "plas        1.038599  2.380722e-31  1.032001  1.045240"
      ]
     },
     "execution_count": 87,
     "metadata": {},
     "output_type": "execute_result"
    }
   ],
   "source": [
    "model_stats = pd.DataFrame(np.exp(res.params), columns = [\"OddsRatio\"])\n",
    "model_stats[\"P >|z|\"] = res.pvalues\n",
    "model_stats[[\"2.5%\", \"97.5%\"]] = np.exp(res.conf_int())\n",
    "model_stats"
   ]
  },
  {
   "cell_type": "markdown",
   "id": "d3f3d746",
   "metadata": {},
   "source": [
    "log-odds = 0.004748 + 1.038599x\n",
    "p value of plas is 2.380722e-31 which is less than 0.05, so we reject the null hypothesis. Also, condidence interval of OR:[1.032001, 1.045240]does not contian 1. plas have siginificant effect on wether should have label."
   ]
  },
  {
   "cell_type": "markdown",
   "id": "9bac9c2f",
   "metadata": {},
   "source": [
    "# label ~ pres"
   ]
  },
  {
   "cell_type": "code",
   "execution_count": 89,
   "id": "aeee1b7c",
   "metadata": {},
   "outputs": [
    {
     "data": {
      "text/html": [
       "<table class=\"simpletable\">\n",
       "<caption>Generalized Linear Model Regression Results</caption>\n",
       "<tr>\n",
       "  <th>Dep. Variable:</th>         <td>label</td>      <th>  No. Observations:  </th>  <td>   768</td> \n",
       "</tr>\n",
       "<tr>\n",
       "  <th>Model:</th>                  <td>GLM</td>       <th>  Df Residuals:      </th>  <td>   766</td> \n",
       "</tr>\n",
       "<tr>\n",
       "  <th>Model Family:</th>        <td>Binomial</td>     <th>  Df Model:          </th>  <td>     1</td> \n",
       "</tr>\n",
       "<tr>\n",
       "  <th>Link Function:</th>         <td>logit</td>      <th>  Scale:             </th> <td>  1.0000</td>\n",
       "</tr>\n",
       "<tr>\n",
       "  <th>Method:</th>                <td>IRLS</td>       <th>  Log-Likelihood:    </th> <td> -495.06</td>\n",
       "</tr>\n",
       "<tr>\n",
       "  <th>Date:</th>            <td>Thu, 10 Nov 2022</td> <th>  Deviance:          </th> <td>  990.13</td>\n",
       "</tr>\n",
       "<tr>\n",
       "  <th>Time:</th>                <td>15:21:36</td>     <th>  Pearson chi2:      </th>  <td>  770.</td> \n",
       "</tr>\n",
       "<tr>\n",
       "  <th>No. Iterations:</th>          <td>4</td>        <th>                     </th>     <td> </td>   \n",
       "</tr>\n",
       "<tr>\n",
       "  <th>Covariance Type:</th>     <td>nonrobust</td>    <th>                     </th>     <td> </td>   \n",
       "</tr>\n",
       "</table>\n",
       "<table class=\"simpletable\">\n",
       "<tr>\n",
       "      <td></td>         <th>coef</th>     <th>std err</th>      <th>z</th>      <th>P>|z|</th>  <th>[0.025</th>    <th>0.975]</th>  \n",
       "</tr>\n",
       "<tr>\n",
       "  <th>Intercept</th> <td>   -1.1401</td> <td>    0.300</td> <td>   -3.803</td> <td> 0.000</td> <td>   -1.728</td> <td>   -0.552</td>\n",
       "</tr>\n",
       "<tr>\n",
       "  <th>pres</th>      <td>    0.0074</td> <td>    0.004</td> <td>    1.793</td> <td> 0.073</td> <td>   -0.001</td> <td>    0.016</td>\n",
       "</tr>\n",
       "</table>"
      ],
      "text/plain": [
       "<class 'statsmodels.iolib.summary.Summary'>\n",
       "\"\"\"\n",
       "                 Generalized Linear Model Regression Results                  \n",
       "==============================================================================\n",
       "Dep. Variable:                  label   No. Observations:                  768\n",
       "Model:                            GLM   Df Residuals:                      766\n",
       "Model Family:                Binomial   Df Model:                            1\n",
       "Link Function:                  logit   Scale:                          1.0000\n",
       "Method:                          IRLS   Log-Likelihood:                -495.06\n",
       "Date:                Thu, 10 Nov 2022   Deviance:                       990.13\n",
       "Time:                        15:21:36   Pearson chi2:                     770.\n",
       "No. Iterations:                     4                                         \n",
       "Covariance Type:            nonrobust                                         \n",
       "==============================================================================\n",
       "                 coef    std err          z      P>|z|      [0.025      0.975]\n",
       "------------------------------------------------------------------------------\n",
       "Intercept     -1.1401      0.300     -3.803      0.000      -1.728      -0.552\n",
       "pres           0.0074      0.004      1.793      0.073      -0.001       0.016\n",
       "==============================================================================\n",
       "\"\"\""
      ]
     },
     "execution_count": 89,
     "metadata": {},
     "output_type": "execute_result"
    }
   ],
   "source": [
    "model = sm.GLM.from_formula(\"label ~ pres\", family = sm.families.Binomial(), data = diabetes_df)\n",
    "res = model.fit()\n",
    "res.summary()"
   ]
  },
  {
   "cell_type": "code",
   "execution_count": 90,
   "id": "8983947f",
   "metadata": {},
   "outputs": [
    {
     "data": {
      "text/html": [
       "<div>\n",
       "<style scoped>\n",
       "    .dataframe tbody tr th:only-of-type {\n",
       "        vertical-align: middle;\n",
       "    }\n",
       "\n",
       "    .dataframe tbody tr th {\n",
       "        vertical-align: top;\n",
       "    }\n",
       "\n",
       "    .dataframe thead th {\n",
       "        text-align: right;\n",
       "    }\n",
       "</style>\n",
       "<table border=\"1\" class=\"dataframe\">\n",
       "  <thead>\n",
       "    <tr style=\"text-align: right;\">\n",
       "      <th></th>\n",
       "      <th>OddsRatio</th>\n",
       "      <th>P &gt;|z|</th>\n",
       "      <th>2.5%</th>\n",
       "      <th>97.5%</th>\n",
       "    </tr>\n",
       "  </thead>\n",
       "  <tbody>\n",
       "    <tr>\n",
       "      <th>Intercept</th>\n",
       "      <td>0.319790</td>\n",
       "      <td>0.000143</td>\n",
       "      <td>0.177687</td>\n",
       "      <td>0.575537</td>\n",
       "    </tr>\n",
       "    <tr>\n",
       "      <th>pres</th>\n",
       "      <td>1.007452</td>\n",
       "      <td>0.072994</td>\n",
       "      <td>0.999308</td>\n",
       "      <td>1.015663</td>\n",
       "    </tr>\n",
       "  </tbody>\n",
       "</table>\n",
       "</div>"
      ],
      "text/plain": [
       "           OddsRatio    P >|z|      2.5%     97.5%\n",
       "Intercept   0.319790  0.000143  0.177687  0.575537\n",
       "pres        1.007452  0.072994  0.999308  1.015663"
      ]
     },
     "execution_count": 90,
     "metadata": {},
     "output_type": "execute_result"
    }
   ],
   "source": [
    "model_stats = pd.DataFrame(np.exp(res.params), columns = [\"OddsRatio\"])\n",
    "model_stats[\"P >|z|\"] = res.pvalues\n",
    "model_stats[[\"2.5%\", \"97.5%\"]] = np.exp(res.conf_int())\n",
    "model_stats"
   ]
  },
  {
   "cell_type": "markdown",
   "id": "190677d1",
   "metadata": {},
   "source": [
    "log-odds = 0.319790 + 1.007452x\n",
    "p value of pres is 0.072994 which is greater than 0.05, so we do not reject the null hypothesis. Also, condidence interval of OR:[0.999308, 1.015663] contians 1. pres have siginificant effect on wether should have label."
   ]
  },
  {
   "cell_type": "markdown",
   "id": "cae77db6",
   "metadata": {},
   "source": [
    "# label ~ skin"
   ]
  },
  {
   "cell_type": "code",
   "execution_count": 91,
   "id": "4c15a155",
   "metadata": {},
   "outputs": [
    {
     "data": {
      "text/html": [
       "<table class=\"simpletable\">\n",
       "<caption>Generalized Linear Model Regression Results</caption>\n",
       "<tr>\n",
       "  <th>Dep. Variable:</th>         <td>label</td>      <th>  No. Observations:  </th>  <td>   768</td> \n",
       "</tr>\n",
       "<tr>\n",
       "  <th>Model:</th>                  <td>GLM</td>       <th>  Df Residuals:      </th>  <td>   766</td> \n",
       "</tr>\n",
       "<tr>\n",
       "  <th>Model Family:</th>        <td>Binomial</td>     <th>  Df Model:          </th>  <td>     1</td> \n",
       "</tr>\n",
       "<tr>\n",
       "  <th>Link Function:</th>         <td>logit</td>      <th>  Scale:             </th> <td>  1.0000</td>\n",
       "</tr>\n",
       "<tr>\n",
       "  <th>Method:</th>                <td>IRLS</td>       <th>  Log-Likelihood:    </th> <td> -494.59</td>\n",
       "</tr>\n",
       "<tr>\n",
       "  <th>Date:</th>            <td>Thu, 10 Nov 2022</td> <th>  Deviance:          </th> <td>  989.19</td>\n",
       "</tr>\n",
       "<tr>\n",
       "  <th>Time:</th>                <td>15:22:30</td>     <th>  Pearson chi2:      </th>  <td>  769.</td> \n",
       "</tr>\n",
       "<tr>\n",
       "  <th>No. Iterations:</th>          <td>4</td>        <th>                     </th>     <td> </td>   \n",
       "</tr>\n",
       "<tr>\n",
       "  <th>Covariance Type:</th>     <td>nonrobust</td>    <th>                     </th>     <td> </td>   \n",
       "</tr>\n",
       "</table>\n",
       "<table class=\"simpletable\">\n",
       "<tr>\n",
       "      <td></td>         <th>coef</th>     <th>std err</th>      <th>z</th>      <th>P>|z|</th>  <th>[0.025</th>    <th>0.975]</th>  \n",
       "</tr>\n",
       "<tr>\n",
       "  <th>Intercept</th> <td>   -0.8299</td> <td>    0.127</td> <td>   -6.544</td> <td> 0.000</td> <td>   -1.078</td> <td>   -0.581</td>\n",
       "</tr>\n",
       "<tr>\n",
       "  <th>skin</th>      <td>    0.0099</td> <td>    0.005</td> <td>    2.066</td> <td> 0.039</td> <td>    0.001</td> <td>    0.019</td>\n",
       "</tr>\n",
       "</table>"
      ],
      "text/plain": [
       "<class 'statsmodels.iolib.summary.Summary'>\n",
       "\"\"\"\n",
       "                 Generalized Linear Model Regression Results                  \n",
       "==============================================================================\n",
       "Dep. Variable:                  label   No. Observations:                  768\n",
       "Model:                            GLM   Df Residuals:                      766\n",
       "Model Family:                Binomial   Df Model:                            1\n",
       "Link Function:                  logit   Scale:                          1.0000\n",
       "Method:                          IRLS   Log-Likelihood:                -494.59\n",
       "Date:                Thu, 10 Nov 2022   Deviance:                       989.19\n",
       "Time:                        15:22:30   Pearson chi2:                     769.\n",
       "No. Iterations:                     4                                         \n",
       "Covariance Type:            nonrobust                                         \n",
       "==============================================================================\n",
       "                 coef    std err          z      P>|z|      [0.025      0.975]\n",
       "------------------------------------------------------------------------------\n",
       "Intercept     -0.8299      0.127     -6.544      0.000      -1.078      -0.581\n",
       "skin           0.0099      0.005      2.066      0.039       0.001       0.019\n",
       "==============================================================================\n",
       "\"\"\""
      ]
     },
     "execution_count": 91,
     "metadata": {},
     "output_type": "execute_result"
    }
   ],
   "source": [
    "model = sm.GLM.from_formula(\"label ~ skin\", family = sm.families.Binomial(), data = diabetes_df)\n",
    "res = model.fit()\n",
    "res.summary()"
   ]
  },
  {
   "cell_type": "code",
   "execution_count": 92,
   "id": "3c99cf9a",
   "metadata": {},
   "outputs": [
    {
     "data": {
      "text/html": [
       "<div>\n",
       "<style scoped>\n",
       "    .dataframe tbody tr th:only-of-type {\n",
       "        vertical-align: middle;\n",
       "    }\n",
       "\n",
       "    .dataframe tbody tr th {\n",
       "        vertical-align: top;\n",
       "    }\n",
       "\n",
       "    .dataframe thead th {\n",
       "        text-align: right;\n",
       "    }\n",
       "</style>\n",
       "<table border=\"1\" class=\"dataframe\">\n",
       "  <thead>\n",
       "    <tr style=\"text-align: right;\">\n",
       "      <th></th>\n",
       "      <th>OddsRatio</th>\n",
       "      <th>P &gt;|z|</th>\n",
       "      <th>2.5%</th>\n",
       "      <th>97.5%</th>\n",
       "    </tr>\n",
       "  </thead>\n",
       "  <tbody>\n",
       "    <tr>\n",
       "      <th>Intercept</th>\n",
       "      <td>0.436113</td>\n",
       "      <td>5.999004e-11</td>\n",
       "      <td>0.340137</td>\n",
       "      <td>0.559172</td>\n",
       "    </tr>\n",
       "    <tr>\n",
       "      <th>skin</th>\n",
       "      <td>1.009911</td>\n",
       "      <td>3.881576e-02</td>\n",
       "      <td>1.000507</td>\n",
       "      <td>1.019404</td>\n",
       "    </tr>\n",
       "  </tbody>\n",
       "</table>\n",
       "</div>"
      ],
      "text/plain": [
       "           OddsRatio        P >|z|      2.5%     97.5%\n",
       "Intercept   0.436113  5.999004e-11  0.340137  0.559172\n",
       "skin        1.009911  3.881576e-02  1.000507  1.019404"
      ]
     },
     "execution_count": 92,
     "metadata": {},
     "output_type": "execute_result"
    }
   ],
   "source": [
    "model_stats = pd.DataFrame(np.exp(res.params), columns = [\"OddsRatio\"])\n",
    "model_stats[\"P >|z|\"] = res.pvalues\n",
    "model_stats[[\"2.5%\", \"97.5%\"]] = np.exp(res.conf_int())\n",
    "model_stats"
   ]
  },
  {
   "cell_type": "markdown",
   "id": "a1441f39",
   "metadata": {},
   "source": [
    "log-odds = 0.436113 + 1.009911x\n",
    "p value of skin is 3.881576e-02 which is greater than 0.05, so we do not reject the null hypothesis. Also, condidence interval of OR:[1.000507, 1.019404] do not contians 1. skin have siginificant effect on wether should have label."
   ]
  },
  {
   "cell_type": "markdown",
   "id": "c29662d7",
   "metadata": {},
   "source": [
    "# label ~ insu"
   ]
  },
  {
   "cell_type": "code",
   "execution_count": 101,
   "id": "7215a7f8",
   "metadata": {},
   "outputs": [
    {
     "data": {
      "text/html": [
       "<table class=\"simpletable\">\n",
       "<caption>Generalized Linear Model Regression Results</caption>\n",
       "<tr>\n",
       "  <th>Dep. Variable:</th>         <td>label</td>      <th>  No. Observations:  </th>  <td>   768</td> \n",
       "</tr>\n",
       "<tr>\n",
       "  <th>Model:</th>                  <td>GLM</td>       <th>  Df Residuals:      </th>  <td>   766</td> \n",
       "</tr>\n",
       "<tr>\n",
       "  <th>Model Family:</th>        <td>Binomial</td>     <th>  Df Model:          </th>  <td>     1</td> \n",
       "</tr>\n",
       "<tr>\n",
       "  <th>Link Function:</th>         <td>logit</td>      <th>  Scale:             </th> <td>  1.0000</td>\n",
       "</tr>\n",
       "<tr>\n",
       "  <th>Method:</th>                <td>IRLS</td>       <th>  Log-Likelihood:    </th> <td> -490.41</td>\n",
       "</tr>\n",
       "<tr>\n",
       "  <th>Date:</th>            <td>Thu, 10 Nov 2022</td> <th>  Deviance:          </th> <td>  980.81</td>\n",
       "</tr>\n",
       "<tr>\n",
       "  <th>Time:</th>                <td>15:30:04</td>     <th>  Pearson chi2:      </th>  <td>  769.</td> \n",
       "</tr>\n",
       "<tr>\n",
       "  <th>No. Iterations:</th>          <td>4</td>        <th>                     </th>     <td> </td>   \n",
       "</tr>\n",
       "<tr>\n",
       "  <th>Covariance Type:</th>     <td>nonrobust</td>    <th>                     </th>     <td> </td>   \n",
       "</tr>\n",
       "</table>\n",
       "<table class=\"simpletable\">\n",
       "<tr>\n",
       "      <td></td>         <th>coef</th>     <th>std err</th>      <th>z</th>      <th>P>|z|</th>  <th>[0.025</th>    <th>0.975]</th>  \n",
       "</tr>\n",
       "<tr>\n",
       "  <th>Intercept</th> <td>   -0.8145</td> <td>    0.094</td> <td>   -8.632</td> <td> 0.000</td> <td>   -0.999</td> <td>   -0.630</td>\n",
       "</tr>\n",
       "<tr>\n",
       "  <th>insu</th>      <td>    0.0023</td> <td>    0.001</td> <td>    3.518</td> <td> 0.000</td> <td>    0.001</td> <td>    0.004</td>\n",
       "</tr>\n",
       "</table>"
      ],
      "text/plain": [
       "<class 'statsmodels.iolib.summary.Summary'>\n",
       "\"\"\"\n",
       "                 Generalized Linear Model Regression Results                  \n",
       "==============================================================================\n",
       "Dep. Variable:                  label   No. Observations:                  768\n",
       "Model:                            GLM   Df Residuals:                      766\n",
       "Model Family:                Binomial   Df Model:                            1\n",
       "Link Function:                  logit   Scale:                          1.0000\n",
       "Method:                          IRLS   Log-Likelihood:                -490.41\n",
       "Date:                Thu, 10 Nov 2022   Deviance:                       980.81\n",
       "Time:                        15:30:04   Pearson chi2:                     769.\n",
       "No. Iterations:                     4                                         \n",
       "Covariance Type:            nonrobust                                         \n",
       "==============================================================================\n",
       "                 coef    std err          z      P>|z|      [0.025      0.975]\n",
       "------------------------------------------------------------------------------\n",
       "Intercept     -0.8145      0.094     -8.632      0.000      -0.999      -0.630\n",
       "insu           0.0023      0.001      3.518      0.000       0.001       0.004\n",
       "==============================================================================\n",
       "\"\"\""
      ]
     },
     "execution_count": 101,
     "metadata": {},
     "output_type": "execute_result"
    }
   ],
   "source": [
    "model = sm.GLM.from_formula(\"label ~ insu\", family = sm.families.Binomial(), data = diabetes_df)\n",
    "res = model.fit()\n",
    "res.summary()"
   ]
  },
  {
   "cell_type": "code",
   "execution_count": 102,
   "id": "25fd17be",
   "metadata": {},
   "outputs": [
    {
     "data": {
      "text/html": [
       "<div>\n",
       "<style scoped>\n",
       "    .dataframe tbody tr th:only-of-type {\n",
       "        vertical-align: middle;\n",
       "    }\n",
       "\n",
       "    .dataframe tbody tr th {\n",
       "        vertical-align: top;\n",
       "    }\n",
       "\n",
       "    .dataframe thead th {\n",
       "        text-align: right;\n",
       "    }\n",
       "</style>\n",
       "<table border=\"1\" class=\"dataframe\">\n",
       "  <thead>\n",
       "    <tr style=\"text-align: right;\">\n",
       "      <th></th>\n",
       "      <th>OddsRatio</th>\n",
       "      <th>P &gt;|z|</th>\n",
       "      <th>2.5%</th>\n",
       "      <th>97.5%</th>\n",
       "    </tr>\n",
       "  </thead>\n",
       "  <tbody>\n",
       "    <tr>\n",
       "      <th>Intercept</th>\n",
       "      <td>0.442856</td>\n",
       "      <td>6.024111e-18</td>\n",
       "      <td>0.368082</td>\n",
       "      <td>0.532820</td>\n",
       "    </tr>\n",
       "    <tr>\n",
       "      <th>insu</th>\n",
       "      <td>1.002301</td>\n",
       "      <td>4.353455e-04</td>\n",
       "      <td>1.001019</td>\n",
       "      <td>1.003586</td>\n",
       "    </tr>\n",
       "  </tbody>\n",
       "</table>\n",
       "</div>"
      ],
      "text/plain": [
       "           OddsRatio        P >|z|      2.5%     97.5%\n",
       "Intercept   0.442856  6.024111e-18  0.368082  0.532820\n",
       "insu        1.002301  4.353455e-04  1.001019  1.003586"
      ]
     },
     "execution_count": 102,
     "metadata": {},
     "output_type": "execute_result"
    }
   ],
   "source": [
    "model_stats = pd.DataFrame(np.exp(res.params), columns = [\"OddsRatio\"])\n",
    "model_stats[\"P >|z|\"] = res.pvalues\n",
    "model_stats[[\"2.5%\", \"97.5%\"]] = np.exp(res.conf_int())\n",
    "model_stats"
   ]
  },
  {
   "cell_type": "markdown",
   "id": "d90bd04b",
   "metadata": {},
   "source": [
    "log-odds = 0.442856\t + 1.002301x\n",
    "p value of insu is 4.353455e-04 which is less than 0.05, so we reject the null hypothesis. Also, condidence interval of OR:[1.001019, 1.003586] do not contians 1. insu have siginificant effect on wether should have label."
   ]
  },
  {
   "cell_type": "markdown",
   "id": "6ee67656",
   "metadata": {},
   "source": [
    "# label ~ mass"
   ]
  },
  {
   "cell_type": "code",
   "execution_count": 93,
   "id": "54c57cbd",
   "metadata": {},
   "outputs": [
    {
     "data": {
      "text/html": [
       "<table class=\"simpletable\">\n",
       "<caption>Generalized Linear Model Regression Results</caption>\n",
       "<tr>\n",
       "  <th>Dep. Variable:</th>         <td>label</td>      <th>  No. Observations:  </th>  <td>   768</td> \n",
       "</tr>\n",
       "<tr>\n",
       "  <th>Model:</th>                  <td>GLM</td>       <th>  Df Residuals:      </th>  <td>   766</td> \n",
       "</tr>\n",
       "<tr>\n",
       "  <th>Model Family:</th>        <td>Binomial</td>     <th>  Df Model:          </th>  <td>     1</td> \n",
       "</tr>\n",
       "<tr>\n",
       "  <th>Link Function:</th>         <td>logit</td>      <th>  Scale:             </th> <td>  1.0000</td>\n",
       "</tr>\n",
       "<tr>\n",
       "  <th>Method:</th>                <td>IRLS</td>       <th>  Log-Likelihood:    </th> <td> -460.36</td>\n",
       "</tr>\n",
       "<tr>\n",
       "  <th>Date:</th>            <td>Thu, 10 Nov 2022</td> <th>  Deviance:          </th> <td>  920.71</td>\n",
       "</tr>\n",
       "<tr>\n",
       "  <th>Time:</th>                <td>15:23:03</td>     <th>  Pearson chi2:      </th>  <td>  805.</td> \n",
       "</tr>\n",
       "<tr>\n",
       "  <th>No. Iterations:</th>          <td>4</td>        <th>                     </th>     <td> </td>   \n",
       "</tr>\n",
       "<tr>\n",
       "  <th>Covariance Type:</th>     <td>nonrobust</td>    <th>                     </th>     <td> </td>   \n",
       "</tr>\n",
       "</table>\n",
       "<table class=\"simpletable\">\n",
       "<tr>\n",
       "      <td></td>         <th>coef</th>     <th>std err</th>      <th>z</th>      <th>P>|z|</th>  <th>[0.025</th>    <th>0.975]</th>  \n",
       "</tr>\n",
       "<tr>\n",
       "  <th>Intercept</th> <td>   -3.6864</td> <td>    0.409</td> <td>   -9.014</td> <td> 0.000</td> <td>   -4.488</td> <td>   -2.885</td>\n",
       "</tr>\n",
       "<tr>\n",
       "  <th>mass</th>      <td>    0.0935</td> <td>    0.012</td> <td>    7.761</td> <td> 0.000</td> <td>    0.070</td> <td>    0.117</td>\n",
       "</tr>\n",
       "</table>"
      ],
      "text/plain": [
       "<class 'statsmodels.iolib.summary.Summary'>\n",
       "\"\"\"\n",
       "                 Generalized Linear Model Regression Results                  \n",
       "==============================================================================\n",
       "Dep. Variable:                  label   No. Observations:                  768\n",
       "Model:                            GLM   Df Residuals:                      766\n",
       "Model Family:                Binomial   Df Model:                            1\n",
       "Link Function:                  logit   Scale:                          1.0000\n",
       "Method:                          IRLS   Log-Likelihood:                -460.36\n",
       "Date:                Thu, 10 Nov 2022   Deviance:                       920.71\n",
       "Time:                        15:23:03   Pearson chi2:                     805.\n",
       "No. Iterations:                     4                                         \n",
       "Covariance Type:            nonrobust                                         \n",
       "==============================================================================\n",
       "                 coef    std err          z      P>|z|      [0.025      0.975]\n",
       "------------------------------------------------------------------------------\n",
       "Intercept     -3.6864      0.409     -9.014      0.000      -4.488      -2.885\n",
       "mass           0.0935      0.012      7.761      0.000       0.070       0.117\n",
       "==============================================================================\n",
       "\"\"\""
      ]
     },
     "execution_count": 93,
     "metadata": {},
     "output_type": "execute_result"
    }
   ],
   "source": [
    "model = sm.GLM.from_formula(\"label ~ mass\", family = sm.families.Binomial(), data = diabetes_df)\n",
    "res = model.fit()\n",
    "res.summary()"
   ]
  },
  {
   "cell_type": "code",
   "execution_count": 94,
   "id": "7690b108",
   "metadata": {},
   "outputs": [
    {
     "data": {
      "text/html": [
       "<div>\n",
       "<style scoped>\n",
       "    .dataframe tbody tr th:only-of-type {\n",
       "        vertical-align: middle;\n",
       "    }\n",
       "\n",
       "    .dataframe tbody tr th {\n",
       "        vertical-align: top;\n",
       "    }\n",
       "\n",
       "    .dataframe thead th {\n",
       "        text-align: right;\n",
       "    }\n",
       "</style>\n",
       "<table border=\"1\" class=\"dataframe\">\n",
       "  <thead>\n",
       "    <tr style=\"text-align: right;\">\n",
       "      <th></th>\n",
       "      <th>OddsRatio</th>\n",
       "      <th>P &gt;|z|</th>\n",
       "      <th>2.5%</th>\n",
       "      <th>97.5%</th>\n",
       "    </tr>\n",
       "  </thead>\n",
       "  <tbody>\n",
       "    <tr>\n",
       "      <th>Intercept</th>\n",
       "      <td>0.025062</td>\n",
       "      <td>1.983935e-19</td>\n",
       "      <td>0.011244</td>\n",
       "      <td>0.055862</td>\n",
       "    </tr>\n",
       "    <tr>\n",
       "      <th>mass</th>\n",
       "      <td>1.098044</td>\n",
       "      <td>8.449577e-15</td>\n",
       "      <td>1.072411</td>\n",
       "      <td>1.124290</td>\n",
       "    </tr>\n",
       "  </tbody>\n",
       "</table>\n",
       "</div>"
      ],
      "text/plain": [
       "           OddsRatio        P >|z|      2.5%     97.5%\n",
       "Intercept   0.025062  1.983935e-19  0.011244  0.055862\n",
       "mass        1.098044  8.449577e-15  1.072411  1.124290"
      ]
     },
     "execution_count": 94,
     "metadata": {},
     "output_type": "execute_result"
    }
   ],
   "source": [
    "model_stats = pd.DataFrame(np.exp(res.params), columns = [\"OddsRatio\"])\n",
    "model_stats[\"P >|z|\"] = res.pvalues\n",
    "model_stats[[\"2.5%\", \"97.5%\"]] = np.exp(res.conf_int())\n",
    "model_stats"
   ]
  },
  {
   "cell_type": "markdown",
   "id": "603fc5bc",
   "metadata": {},
   "source": [
    "log-odds = 0.025062\t + 1.098044x\n",
    "p value of mass is 8.449577e-15 which is less than 0.05, so we reject the null hypothesis. Also, condidence interval of OR:[1.072411, 1.124290] do not contians 1. mass have siginificant effect on wether should have label."
   ]
  },
  {
   "cell_type": "markdown",
   "id": "0535ad01",
   "metadata": {},
   "source": [
    "# label ~ pedi"
   ]
  },
  {
   "cell_type": "code",
   "execution_count": 95,
   "id": "b2069741",
   "metadata": {},
   "outputs": [
    {
     "data": {
      "text/html": [
       "<table class=\"simpletable\">\n",
       "<caption>Generalized Linear Model Regression Results</caption>\n",
       "<tr>\n",
       "  <th>Dep. Variable:</th>         <td>label</td>      <th>  No. Observations:  </th>  <td>   768</td> \n",
       "</tr>\n",
       "<tr>\n",
       "  <th>Model:</th>                  <td>GLM</td>       <th>  Df Residuals:      </th>  <td>   766</td> \n",
       "</tr>\n",
       "<tr>\n",
       "  <th>Model Family:</th>        <td>Binomial</td>     <th>  Df Model:          </th>  <td>     1</td> \n",
       "</tr>\n",
       "<tr>\n",
       "  <th>Link Function:</th>         <td>logit</td>      <th>  Scale:             </th> <td>  1.0000</td>\n",
       "</tr>\n",
       "<tr>\n",
       "  <th>Method:</th>                <td>IRLS</td>       <th>  Log-Likelihood:    </th> <td> -485.43</td>\n",
       "</tr>\n",
       "<tr>\n",
       "  <th>Date:</th>            <td>Thu, 10 Nov 2022</td> <th>  Deviance:          </th> <td>  970.86</td>\n",
       "</tr>\n",
       "<tr>\n",
       "  <th>Time:</th>                <td>15:23:37</td>     <th>  Pearson chi2:      </th>  <td>  767.</td> \n",
       "</tr>\n",
       "<tr>\n",
       "  <th>No. Iterations:</th>          <td>4</td>        <th>                     </th>     <td> </td>   \n",
       "</tr>\n",
       "<tr>\n",
       "  <th>Covariance Type:</th>     <td>nonrobust</td>    <th>                     </th>     <td> </td>   \n",
       "</tr>\n",
       "</table>\n",
       "<table class=\"simpletable\">\n",
       "<tr>\n",
       "      <td></td>         <th>coef</th>     <th>std err</th>      <th>z</th>      <th>P>|z|</th>  <th>[0.025</th>    <th>0.975]</th>  \n",
       "</tr>\n",
       "<tr>\n",
       "  <th>Intercept</th> <td>   -1.1473</td> <td>    0.138</td> <td>   -8.319</td> <td> 0.000</td> <td>   -1.418</td> <td>   -0.877</td>\n",
       "</tr>\n",
       "<tr>\n",
       "  <th>pedi</th>      <td>    1.0828</td> <td>    0.234</td> <td>    4.627</td> <td> 0.000</td> <td>    0.624</td> <td>    1.541</td>\n",
       "</tr>\n",
       "</table>"
      ],
      "text/plain": [
       "<class 'statsmodels.iolib.summary.Summary'>\n",
       "\"\"\"\n",
       "                 Generalized Linear Model Regression Results                  \n",
       "==============================================================================\n",
       "Dep. Variable:                  label   No. Observations:                  768\n",
       "Model:                            GLM   Df Residuals:                      766\n",
       "Model Family:                Binomial   Df Model:                            1\n",
       "Link Function:                  logit   Scale:                          1.0000\n",
       "Method:                          IRLS   Log-Likelihood:                -485.43\n",
       "Date:                Thu, 10 Nov 2022   Deviance:                       970.86\n",
       "Time:                        15:23:37   Pearson chi2:                     767.\n",
       "No. Iterations:                     4                                         \n",
       "Covariance Type:            nonrobust                                         \n",
       "==============================================================================\n",
       "                 coef    std err          z      P>|z|      [0.025      0.975]\n",
       "------------------------------------------------------------------------------\n",
       "Intercept     -1.1473      0.138     -8.319      0.000      -1.418      -0.877\n",
       "pedi           1.0828      0.234      4.627      0.000       0.624       1.541\n",
       "==============================================================================\n",
       "\"\"\""
      ]
     },
     "execution_count": 95,
     "metadata": {},
     "output_type": "execute_result"
    }
   ],
   "source": [
    "model = sm.GLM.from_formula(\"label ~ pedi\", family = sm.families.Binomial(), data = diabetes_df)\n",
    "res = model.fit()\n",
    "res.summary()"
   ]
  },
  {
   "cell_type": "code",
   "execution_count": 96,
   "id": "0c35ba88",
   "metadata": {},
   "outputs": [
    {
     "data": {
      "text/html": [
       "<div>\n",
       "<style scoped>\n",
       "    .dataframe tbody tr th:only-of-type {\n",
       "        vertical-align: middle;\n",
       "    }\n",
       "\n",
       "    .dataframe tbody tr th {\n",
       "        vertical-align: top;\n",
       "    }\n",
       "\n",
       "    .dataframe thead th {\n",
       "        text-align: right;\n",
       "    }\n",
       "</style>\n",
       "<table border=\"1\" class=\"dataframe\">\n",
       "  <thead>\n",
       "    <tr style=\"text-align: right;\">\n",
       "      <th></th>\n",
       "      <th>OddsRatio</th>\n",
       "      <th>P &gt;|z|</th>\n",
       "      <th>2.5%</th>\n",
       "      <th>97.5%</th>\n",
       "    </tr>\n",
       "  </thead>\n",
       "  <tbody>\n",
       "    <tr>\n",
       "      <th>Intercept</th>\n",
       "      <td>0.317478</td>\n",
       "      <td>8.893610e-17</td>\n",
       "      <td>0.242277</td>\n",
       "      <td>0.416021</td>\n",
       "    </tr>\n",
       "    <tr>\n",
       "      <th>pedi</th>\n",
       "      <td>2.953073</td>\n",
       "      <td>3.702926e-06</td>\n",
       "      <td>1.866751</td>\n",
       "      <td>4.671560</td>\n",
       "    </tr>\n",
       "  </tbody>\n",
       "</table>\n",
       "</div>"
      ],
      "text/plain": [
       "           OddsRatio        P >|z|      2.5%     97.5%\n",
       "Intercept   0.317478  8.893610e-17  0.242277  0.416021\n",
       "pedi        2.953073  3.702926e-06  1.866751  4.671560"
      ]
     },
     "execution_count": 96,
     "metadata": {},
     "output_type": "execute_result"
    }
   ],
   "source": [
    "model_stats = pd.DataFrame(np.exp(res.params), columns = [\"OddsRatio\"])\n",
    "model_stats[\"P >|z|\"] = res.pvalues\n",
    "model_stats[[\"2.5%\", \"97.5%\"]] = np.exp(res.conf_int())\n",
    "model_stats"
   ]
  },
  {
   "cell_type": "markdown",
   "id": "f343a981",
   "metadata": {},
   "source": [
    "log-odds = 0.317478\t + 2.953073x\n",
    "p value of pedi is 3.702926e-06 which is less than 0.05, so we reject the null hypothesis. Also, condidence interval of OR:[1.866751, 4.671560] do not contians 1. pedi have siginificant effect on wether should have label."
   ]
  },
  {
   "cell_type": "markdown",
   "id": "db73cfd6",
   "metadata": {},
   "source": [
    "# label ~ age"
   ]
  },
  {
   "cell_type": "code",
   "execution_count": 98,
   "id": "ec57b9f2",
   "metadata": {},
   "outputs": [
    {
     "data": {
      "text/html": [
       "<table class=\"simpletable\">\n",
       "<caption>Generalized Linear Model Regression Results</caption>\n",
       "<tr>\n",
       "  <th>Dep. Variable:</th>         <td>label</td>      <th>  No. Observations:  </th>  <td>   768</td> \n",
       "</tr>\n",
       "<tr>\n",
       "  <th>Model:</th>                  <td>GLM</td>       <th>  Df Residuals:      </th>  <td>   766</td> \n",
       "</tr>\n",
       "<tr>\n",
       "  <th>Model Family:</th>        <td>Binomial</td>     <th>  Df Model:          </th>  <td>     1</td> \n",
       "</tr>\n",
       "<tr>\n",
       "  <th>Link Function:</th>         <td>logit</td>      <th>  Scale:             </th> <td>  1.0000</td>\n",
       "</tr>\n",
       "<tr>\n",
       "  <th>Method:</th>                <td>IRLS</td>       <th>  Log-Likelihood:    </th> <td> -475.36</td>\n",
       "</tr>\n",
       "<tr>\n",
       "  <th>Date:</th>            <td>Thu, 10 Nov 2022</td> <th>  Deviance:          </th> <td>  950.72</td>\n",
       "</tr>\n",
       "<tr>\n",
       "  <th>Time:</th>                <td>15:24:09</td>     <th>  Pearson chi2:      </th>  <td>  761.</td> \n",
       "</tr>\n",
       "<tr>\n",
       "  <th>No. Iterations:</th>          <td>4</td>        <th>                     </th>     <td> </td>   \n",
       "</tr>\n",
       "<tr>\n",
       "  <th>Covariance Type:</th>     <td>nonrobust</td>    <th>                     </th>     <td> </td>   \n",
       "</tr>\n",
       "</table>\n",
       "<table class=\"simpletable\">\n",
       "<tr>\n",
       "      <td></td>         <th>coef</th>     <th>std err</th>      <th>z</th>      <th>P>|z|</th>  <th>[0.025</th>    <th>0.975]</th>  \n",
       "</tr>\n",
       "<tr>\n",
       "  <th>Intercept</th> <td>   -2.0475</td> <td>    0.239</td> <td>   -8.572</td> <td> 0.000</td> <td>   -2.516</td> <td>   -1.579</td>\n",
       "</tr>\n",
       "<tr>\n",
       "  <th>age</th>       <td>    0.0420</td> <td>    0.007</td> <td>    6.380</td> <td> 0.000</td> <td>    0.029</td> <td>    0.055</td>\n",
       "</tr>\n",
       "</table>"
      ],
      "text/plain": [
       "<class 'statsmodels.iolib.summary.Summary'>\n",
       "\"\"\"\n",
       "                 Generalized Linear Model Regression Results                  \n",
       "==============================================================================\n",
       "Dep. Variable:                  label   No. Observations:                  768\n",
       "Model:                            GLM   Df Residuals:                      766\n",
       "Model Family:                Binomial   Df Model:                            1\n",
       "Link Function:                  logit   Scale:                          1.0000\n",
       "Method:                          IRLS   Log-Likelihood:                -475.36\n",
       "Date:                Thu, 10 Nov 2022   Deviance:                       950.72\n",
       "Time:                        15:24:09   Pearson chi2:                     761.\n",
       "No. Iterations:                     4                                         \n",
       "Covariance Type:            nonrobust                                         \n",
       "==============================================================================\n",
       "                 coef    std err          z      P>|z|      [0.025      0.975]\n",
       "------------------------------------------------------------------------------\n",
       "Intercept     -2.0475      0.239     -8.572      0.000      -2.516      -1.579\n",
       "age            0.0420      0.007      6.380      0.000       0.029       0.055\n",
       "==============================================================================\n",
       "\"\"\""
      ]
     },
     "execution_count": 98,
     "metadata": {},
     "output_type": "execute_result"
    }
   ],
   "source": [
    "model = sm.GLM.from_formula(\"label ~ age\", family = sm.families.Binomial(), data = diabetes_df)\n",
    "res = model.fit()\n",
    "res.summary()"
   ]
  },
  {
   "cell_type": "code",
   "execution_count": 99,
   "id": "be85b98b",
   "metadata": {},
   "outputs": [
    {
     "data": {
      "text/html": [
       "<div>\n",
       "<style scoped>\n",
       "    .dataframe tbody tr th:only-of-type {\n",
       "        vertical-align: middle;\n",
       "    }\n",
       "\n",
       "    .dataframe tbody tr th {\n",
       "        vertical-align: top;\n",
       "    }\n",
       "\n",
       "    .dataframe thead th {\n",
       "        text-align: right;\n",
       "    }\n",
       "</style>\n",
       "<table border=\"1\" class=\"dataframe\">\n",
       "  <thead>\n",
       "    <tr style=\"text-align: right;\">\n",
       "      <th></th>\n",
       "      <th>OddsRatio</th>\n",
       "      <th>P &gt;|z|</th>\n",
       "      <th>2.5%</th>\n",
       "      <th>97.5%</th>\n",
       "    </tr>\n",
       "  </thead>\n",
       "  <tbody>\n",
       "    <tr>\n",
       "      <th>Intercept</th>\n",
       "      <td>0.129056</td>\n",
       "      <td>1.012908e-17</td>\n",
       "      <td>0.080811</td>\n",
       "      <td>0.206103</td>\n",
       "    </tr>\n",
       "    <tr>\n",
       "      <th>age</th>\n",
       "      <td>1.042922</td>\n",
       "      <td>1.773155e-10</td>\n",
       "      <td>1.029543</td>\n",
       "      <td>1.056475</td>\n",
       "    </tr>\n",
       "  </tbody>\n",
       "</table>\n",
       "</div>"
      ],
      "text/plain": [
       "           OddsRatio        P >|z|      2.5%     97.5%\n",
       "Intercept   0.129056  1.012908e-17  0.080811  0.206103\n",
       "age         1.042922  1.773155e-10  1.029543  1.056475"
      ]
     },
     "execution_count": 99,
     "metadata": {},
     "output_type": "execute_result"
    }
   ],
   "source": [
    "model_stats = pd.DataFrame(np.exp(res.params), columns = [\"OddsRatio\"])\n",
    "model_stats[\"P >|z|\"] = res.pvalues\n",
    "model_stats[[\"2.5%\", \"97.5%\"]] = np.exp(res.conf_int())\n",
    "model_stats"
   ]
  },
  {
   "cell_type": "markdown",
   "id": "b772516f",
   "metadata": {},
   "source": [
    "log-odds = 0.129056\t + 1.042922x\n",
    "p value of age is 1.773155e-10 which is less than 0.05, so we reject the null hypothesis. Also, condidence interval of OR:[1.029543, 1.056475] do not contians 1. age have siginificant effect on wether should have label."
   ]
  },
  {
   "cell_type": "markdown",
   "id": "03509109",
   "metadata": {},
   "source": [
    "# Multiple Logistic Regression"
   ]
  },
  {
   "cell_type": "code",
   "execution_count": 100,
   "id": "736de722",
   "metadata": {},
   "outputs": [
    {
     "data": {
      "text/plain": [
       "preg       int64\n",
       "plas       int64\n",
       "pres       int64\n",
       "skin       int64\n",
       "insu       int64\n",
       "mass     float64\n",
       "pedi     float64\n",
       "age        int64\n",
       "label      int64\n",
       "dtype: object"
      ]
     },
     "execution_count": 100,
     "metadata": {},
     "output_type": "execute_result"
    }
   ],
   "source": [
    "diabetes_df.dtypes"
   ]
  },
  {
   "cell_type": "markdown",
   "id": "91184b27",
   "metadata": {},
   "source": [
    "## Module 1"
   ]
  },
  {
   "cell_type": "code",
   "execution_count": 123,
   "id": "ae53bc19",
   "metadata": {},
   "outputs": [
    {
     "data": {
      "text/html": [
       "<table class=\"simpletable\">\n",
       "<caption>Generalized Linear Model Regression Results</caption>\n",
       "<tr>\n",
       "  <th>Dep. Variable:</th>         <td>label</td>      <th>  No. Observations:  </th>  <td>   768</td> \n",
       "</tr>\n",
       "<tr>\n",
       "  <th>Model:</th>                  <td>GLM</td>       <th>  Df Residuals:      </th>  <td>   764</td> \n",
       "</tr>\n",
       "<tr>\n",
       "  <th>Model Family:</th>        <td>Binomial</td>     <th>  Df Model:          </th>  <td>     3</td> \n",
       "</tr>\n",
       "<tr>\n",
       "  <th>Link Function:</th>         <td>logit</td>      <th>  Scale:             </th> <td>  1.0000</td>\n",
       "</tr>\n",
       "<tr>\n",
       "  <th>Method:</th>                <td>IRLS</td>       <th>  Log-Likelihood:    </th> <td> -392.03</td>\n",
       "</tr>\n",
       "<tr>\n",
       "  <th>Date:</th>            <td>Thu, 10 Nov 2022</td> <th>  Deviance:          </th> <td>  784.06</td>\n",
       "</tr>\n",
       "<tr>\n",
       "  <th>Time:</th>                <td>16:12:45</td>     <th>  Pearson chi2:      </th> <td>1.06e+03</td>\n",
       "</tr>\n",
       "<tr>\n",
       "  <th>No. Iterations:</th>          <td>5</td>        <th>                     </th>     <td> </td>   \n",
       "</tr>\n",
       "<tr>\n",
       "  <th>Covariance Type:</th>     <td>nonrobust</td>    <th>                     </th>     <td> </td>   \n",
       "</tr>\n",
       "</table>\n",
       "<table class=\"simpletable\">\n",
       "<tr>\n",
       "      <td></td>         <th>coef</th>     <th>std err</th>      <th>z</th>      <th>P>|z|</th>  <th>[0.025</th>    <th>0.975]</th>  \n",
       "</tr>\n",
       "<tr>\n",
       "  <th>Intercept</th> <td>   -5.5245</td> <td>    0.499</td> <td>  -11.077</td> <td> 0.000</td> <td>   -6.502</td> <td>   -4.547</td>\n",
       "</tr>\n",
       "<tr>\n",
       "  <th>preg</th>      <td>    0.1263</td> <td>    0.026</td> <td>    4.888</td> <td> 0.000</td> <td>    0.076</td> <td>    0.177</td>\n",
       "</tr>\n",
       "<tr>\n",
       "  <th>plas</th>      <td>    0.0375</td> <td>    0.003</td> <td>   11.308</td> <td> 0.000</td> <td>    0.031</td> <td>    0.044</td>\n",
       "</tr>\n",
       "<tr>\n",
       "  <th>pres</th>      <td>   -0.0042</td> <td>    0.004</td> <td>   -0.946</td> <td> 0.344</td> <td>   -0.013</td> <td>    0.005</td>\n",
       "</tr>\n",
       "</table>"
      ],
      "text/plain": [
       "<class 'statsmodels.iolib.summary.Summary'>\n",
       "\"\"\"\n",
       "                 Generalized Linear Model Regression Results                  \n",
       "==============================================================================\n",
       "Dep. Variable:                  label   No. Observations:                  768\n",
       "Model:                            GLM   Df Residuals:                      764\n",
       "Model Family:                Binomial   Df Model:                            3\n",
       "Link Function:                  logit   Scale:                          1.0000\n",
       "Method:                          IRLS   Log-Likelihood:                -392.03\n",
       "Date:                Thu, 10 Nov 2022   Deviance:                       784.06\n",
       "Time:                        16:12:45   Pearson chi2:                 1.06e+03\n",
       "No. Iterations:                     5                                         \n",
       "Covariance Type:            nonrobust                                         \n",
       "==============================================================================\n",
       "                 coef    std err          z      P>|z|      [0.025      0.975]\n",
       "------------------------------------------------------------------------------\n",
       "Intercept     -5.5245      0.499    -11.077      0.000      -6.502      -4.547\n",
       "preg           0.1263      0.026      4.888      0.000       0.076       0.177\n",
       "plas           0.0375      0.003     11.308      0.000       0.031       0.044\n",
       "pres          -0.0042      0.004     -0.946      0.344      -0.013       0.005\n",
       "==============================================================================\n",
       "\"\"\""
      ]
     },
     "execution_count": 123,
     "metadata": {},
     "output_type": "execute_result"
    }
   ],
   "source": [
    "model = sm.GLM.from_formula(\"label ~ preg + plas + pres\", family = sm.families.Binomial(), data = diabetes_df)\n",
    "res = model.fit()\n",
    "res.summary()"
   ]
  },
  {
   "cell_type": "code",
   "execution_count": 124,
   "id": "731abaab",
   "metadata": {},
   "outputs": [
    {
     "data": {
      "text/html": [
       "<div>\n",
       "<style scoped>\n",
       "    .dataframe tbody tr th:only-of-type {\n",
       "        vertical-align: middle;\n",
       "    }\n",
       "\n",
       "    .dataframe tbody tr th {\n",
       "        vertical-align: top;\n",
       "    }\n",
       "\n",
       "    .dataframe thead th {\n",
       "        text-align: right;\n",
       "    }\n",
       "</style>\n",
       "<table border=\"1\" class=\"dataframe\">\n",
       "  <thead>\n",
       "    <tr style=\"text-align: right;\">\n",
       "      <th></th>\n",
       "      <th>OddsRatio</th>\n",
       "      <th>P &gt;|z|</th>\n",
       "      <th>2.5%</th>\n",
       "      <th>97.5%</th>\n",
       "    </tr>\n",
       "  </thead>\n",
       "  <tbody>\n",
       "    <tr>\n",
       "      <th>Intercept</th>\n",
       "      <td>0.003988</td>\n",
       "      <td>1.629992e-28</td>\n",
       "      <td>0.001500</td>\n",
       "      <td>0.010600</td>\n",
       "    </tr>\n",
       "    <tr>\n",
       "      <th>preg</th>\n",
       "      <td>1.134615</td>\n",
       "      <td>1.018466e-06</td>\n",
       "      <td>1.078589</td>\n",
       "      <td>1.193552</td>\n",
       "    </tr>\n",
       "    <tr>\n",
       "      <th>plas</th>\n",
       "      <td>1.038228</td>\n",
       "      <td>1.200639e-29</td>\n",
       "      <td>1.031499</td>\n",
       "      <td>1.045001</td>\n",
       "    </tr>\n",
       "    <tr>\n",
       "      <th>pres</th>\n",
       "      <td>0.995774</td>\n",
       "      <td>3.442929e-01</td>\n",
       "      <td>0.987073</td>\n",
       "      <td>1.004552</td>\n",
       "    </tr>\n",
       "  </tbody>\n",
       "</table>\n",
       "</div>"
      ],
      "text/plain": [
       "           OddsRatio        P >|z|      2.5%     97.5%\n",
       "Intercept   0.003988  1.629992e-28  0.001500  0.010600\n",
       "preg        1.134615  1.018466e-06  1.078589  1.193552\n",
       "plas        1.038228  1.200639e-29  1.031499  1.045001\n",
       "pres        0.995774  3.442929e-01  0.987073  1.004552"
      ]
     },
     "execution_count": 124,
     "metadata": {},
     "output_type": "execute_result"
    }
   ],
   "source": [
    "model_stats = pd.DataFrame(np.exp(res.params), columns = [\"OddsRatio\"])\n",
    "model_stats[\"P >|z|\"] = res.pvalues\n",
    "model_stats[[\"2.5%\", \"97.5%\"]] = np.exp(res.conf_int())\n",
    "model_stats"
   ]
  },
  {
   "cell_type": "code",
   "execution_count": 125,
   "id": "b43ad1df",
   "metadata": {},
   "outputs": [
    {
     "data": {
      "text/plain": [
       "792.062065104257"
      ]
     },
     "execution_count": 125,
     "metadata": {},
     "output_type": "execute_result"
    }
   ],
   "source": [
    "res.aic"
   ]
  },
  {
   "cell_type": "markdown",
   "id": "117ed0d5",
   "metadata": {},
   "source": [
    "After fitting different combination of features to the multiple logistic model, Model 1 with features: preg + plas + pres has the AIC as 792.062065104257. None of the variables has a p-value bigger than 0.05."
   ]
  },
  {
   "cell_type": "markdown",
   "id": "26f577a2",
   "metadata": {},
   "source": [
    "## Module 2"
   ]
  },
  {
   "cell_type": "code",
   "execution_count": 126,
   "id": "be494bc1",
   "metadata": {},
   "outputs": [
    {
     "data": {
      "text/html": [
       "<table class=\"simpletable\">\n",
       "<caption>Generalized Linear Model Regression Results</caption>\n",
       "<tr>\n",
       "  <th>Dep. Variable:</th>         <td>label</td>      <th>  No. Observations:  </th>  <td>   768</td> \n",
       "</tr>\n",
       "<tr>\n",
       "  <th>Model:</th>                  <td>GLM</td>       <th>  Df Residuals:      </th>  <td>   764</td> \n",
       "</tr>\n",
       "<tr>\n",
       "  <th>Model Family:</th>        <td>Binomial</td>     <th>  Df Model:          </th>  <td>     3</td> \n",
       "</tr>\n",
       "<tr>\n",
       "  <th>Link Function:</th>         <td>logit</td>      <th>  Scale:             </th> <td>  1.0000</td>\n",
       "</tr>\n",
       "<tr>\n",
       "  <th>Method:</th>                <td>IRLS</td>       <th>  Log-Likelihood:    </th> <td> -455.39</td>\n",
       "</tr>\n",
       "<tr>\n",
       "  <th>Date:</th>            <td>Thu, 10 Nov 2022</td> <th>  Deviance:          </th> <td>  910.78</td>\n",
       "</tr>\n",
       "<tr>\n",
       "  <th>Time:</th>                <td>16:12:50</td>     <th>  Pearson chi2:      </th>  <td>  820.</td> \n",
       "</tr>\n",
       "<tr>\n",
       "  <th>No. Iterations:</th>          <td>4</td>        <th>                     </th>     <td> </td>   \n",
       "</tr>\n",
       "<tr>\n",
       "  <th>Covariance Type:</th>     <td>nonrobust</td>    <th>                     </th>     <td> </td>   \n",
       "</tr>\n",
       "</table>\n",
       "<table class=\"simpletable\">\n",
       "<tr>\n",
       "      <td></td>         <th>coef</th>     <th>std err</th>      <th>z</th>      <th>P>|z|</th>  <th>[0.025</th>    <th>0.975]</th>  \n",
       "</tr>\n",
       "<tr>\n",
       "  <th>Intercept</th> <td>   -3.7843</td> <td>    0.415</td> <td>   -9.109</td> <td> 0.000</td> <td>   -4.599</td> <td>   -2.970</td>\n",
       "</tr>\n",
       "<tr>\n",
       "  <th>skin</th>      <td>   -0.0141</td> <td>    0.006</td> <td>   -2.382</td> <td> 0.017</td> <td>   -0.026</td> <td>   -0.002</td>\n",
       "</tr>\n",
       "<tr>\n",
       "  <th>insu</th>      <td>    0.0021</td> <td>    0.001</td> <td>    2.808</td> <td> 0.005</td> <td>    0.001</td> <td>    0.004</td>\n",
       "</tr>\n",
       "<tr>\n",
       "  <th>mass</th>      <td>    0.1002</td> <td>    0.013</td> <td>    7.643</td> <td> 0.000</td> <td>    0.074</td> <td>    0.126</td>\n",
       "</tr>\n",
       "</table>"
      ],
      "text/plain": [
       "<class 'statsmodels.iolib.summary.Summary'>\n",
       "\"\"\"\n",
       "                 Generalized Linear Model Regression Results                  \n",
       "==============================================================================\n",
       "Dep. Variable:                  label   No. Observations:                  768\n",
       "Model:                            GLM   Df Residuals:                      764\n",
       "Model Family:                Binomial   Df Model:                            3\n",
       "Link Function:                  logit   Scale:                          1.0000\n",
       "Method:                          IRLS   Log-Likelihood:                -455.39\n",
       "Date:                Thu, 10 Nov 2022   Deviance:                       910.78\n",
       "Time:                        16:12:50   Pearson chi2:                     820.\n",
       "No. Iterations:                     4                                         \n",
       "Covariance Type:            nonrobust                                         \n",
       "==============================================================================\n",
       "                 coef    std err          z      P>|z|      [0.025      0.975]\n",
       "------------------------------------------------------------------------------\n",
       "Intercept     -3.7843      0.415     -9.109      0.000      -4.599      -2.970\n",
       "skin          -0.0141      0.006     -2.382      0.017      -0.026      -0.002\n",
       "insu           0.0021      0.001      2.808      0.005       0.001       0.004\n",
       "mass           0.1002      0.013      7.643      0.000       0.074       0.126\n",
       "==============================================================================\n",
       "\"\"\""
      ]
     },
     "execution_count": 126,
     "metadata": {},
     "output_type": "execute_result"
    }
   ],
   "source": [
    "model = sm.GLM.from_formula(\"label ~ skin + insu + mass\", family = sm.families.Binomial(), data = diabetes_df)\n",
    "res = model.fit()\n",
    "res.summary()"
   ]
  },
  {
   "cell_type": "code",
   "execution_count": 127,
   "id": "8d3a0183",
   "metadata": {},
   "outputs": [
    {
     "data": {
      "text/html": [
       "<div>\n",
       "<style scoped>\n",
       "    .dataframe tbody tr th:only-of-type {\n",
       "        vertical-align: middle;\n",
       "    }\n",
       "\n",
       "    .dataframe tbody tr th {\n",
       "        vertical-align: top;\n",
       "    }\n",
       "\n",
       "    .dataframe thead th {\n",
       "        text-align: right;\n",
       "    }\n",
       "</style>\n",
       "<table border=\"1\" class=\"dataframe\">\n",
       "  <thead>\n",
       "    <tr style=\"text-align: right;\">\n",
       "      <th></th>\n",
       "      <th>OddsRatio</th>\n",
       "      <th>P &gt;|z|</th>\n",
       "      <th>2.5%</th>\n",
       "      <th>97.5%</th>\n",
       "    </tr>\n",
       "  </thead>\n",
       "  <tbody>\n",
       "    <tr>\n",
       "      <th>Intercept</th>\n",
       "      <td>0.022725</td>\n",
       "      <td>8.334434e-20</td>\n",
       "      <td>0.010066</td>\n",
       "      <td>0.051302</td>\n",
       "    </tr>\n",
       "    <tr>\n",
       "      <th>skin</th>\n",
       "      <td>0.985993</td>\n",
       "      <td>1.721398e-02</td>\n",
       "      <td>0.974615</td>\n",
       "      <td>0.997503</td>\n",
       "    </tr>\n",
       "    <tr>\n",
       "      <th>insu</th>\n",
       "      <td>1.002120</td>\n",
       "      <td>4.989216e-03</td>\n",
       "      <td>1.000640</td>\n",
       "      <td>1.003603</td>\n",
       "    </tr>\n",
       "    <tr>\n",
       "      <th>mass</th>\n",
       "      <td>1.105338</td>\n",
       "      <td>2.117723e-14</td>\n",
       "      <td>1.077313</td>\n",
       "      <td>1.134093</td>\n",
       "    </tr>\n",
       "  </tbody>\n",
       "</table>\n",
       "</div>"
      ],
      "text/plain": [
       "           OddsRatio        P >|z|      2.5%     97.5%\n",
       "Intercept   0.022725  8.334434e-20  0.010066  0.051302\n",
       "skin        0.985993  1.721398e-02  0.974615  0.997503\n",
       "insu        1.002120  4.989216e-03  1.000640  1.003603\n",
       "mass        1.105338  2.117723e-14  1.077313  1.134093"
      ]
     },
     "execution_count": 127,
     "metadata": {},
     "output_type": "execute_result"
    }
   ],
   "source": [
    "model_stats = pd.DataFrame(np.exp(res.params), columns = [\"OddsRatio\"])\n",
    "model_stats[\"P >|z|\"] = res.pvalues\n",
    "model_stats[[\"2.5%\", \"97.5%\"]] = np.exp(res.conf_int())\n",
    "model_stats"
   ]
  },
  {
   "cell_type": "code",
   "execution_count": 128,
   "id": "b30a6c21",
   "metadata": {},
   "outputs": [
    {
     "data": {
      "text/plain": [
       "918.777966581488"
      ]
     },
     "execution_count": 128,
     "metadata": {},
     "output_type": "execute_result"
    }
   ],
   "source": [
    "res.aic"
   ]
  },
  {
   "cell_type": "markdown",
   "id": "66c21598",
   "metadata": {},
   "source": [
    "After fitting different combination of features to the multiple logistic model, Model 2 with features: skin + insu + mass has the AIC as 918.777966581488. None of the variables has a p-value bigger than 0.05."
   ]
  },
  {
   "cell_type": "markdown",
   "id": "44f5c6ce",
   "metadata": {},
   "source": [
    "## Module 3"
   ]
  },
  {
   "cell_type": "code",
   "execution_count": 129,
   "id": "907a6374",
   "metadata": {},
   "outputs": [
    {
     "data": {
      "text/html": [
       "<table class=\"simpletable\">\n",
       "<caption>Generalized Linear Model Regression Results</caption>\n",
       "<tr>\n",
       "  <th>Dep. Variable:</th>         <td>label</td>      <th>  No. Observations:  </th>  <td>   768</td> \n",
       "</tr>\n",
       "<tr>\n",
       "  <th>Model:</th>                  <td>GLM</td>       <th>  Df Residuals:      </th>  <td>   765</td> \n",
       "</tr>\n",
       "<tr>\n",
       "  <th>Model Family:</th>        <td>Binomial</td>     <th>  Df Model:          </th>  <td>     2</td> \n",
       "</tr>\n",
       "<tr>\n",
       "  <th>Link Function:</th>         <td>logit</td>      <th>  Scale:             </th> <td>  1.0000</td>\n",
       "</tr>\n",
       "<tr>\n",
       "  <th>Method:</th>                <td>IRLS</td>       <th>  Log-Likelihood:    </th> <td> -464.55</td>\n",
       "</tr>\n",
       "<tr>\n",
       "  <th>Date:</th>            <td>Thu, 10 Nov 2022</td> <th>  Deviance:          </th> <td>  929.10</td>\n",
       "</tr>\n",
       "<tr>\n",
       "  <th>Time:</th>                <td>16:12:57</td>     <th>  Pearson chi2:      </th>  <td>  758.</td> \n",
       "</tr>\n",
       "<tr>\n",
       "  <th>No. Iterations:</th>          <td>4</td>        <th>                     </th>     <td> </td>   \n",
       "</tr>\n",
       "<tr>\n",
       "  <th>Covariance Type:</th>     <td>nonrobust</td>    <th>                     </th>     <td> </td>   \n",
       "</tr>\n",
       "</table>\n",
       "<table class=\"simpletable\">\n",
       "<tr>\n",
       "      <td></td>         <th>coef</th>     <th>std err</th>      <th>z</th>      <th>P>|z|</th>  <th>[0.025</th>    <th>0.975]</th>  \n",
       "</tr>\n",
       "<tr>\n",
       "  <th>Intercept</th> <td>   -2.5717</td> <td>    0.272</td> <td>   -9.465</td> <td> 0.000</td> <td>   -3.104</td> <td>   -2.039</td>\n",
       "</tr>\n",
       "<tr>\n",
       "  <th>pedi</th>      <td>    1.0756</td> <td>    0.237</td> <td>    4.543</td> <td> 0.000</td> <td>    0.612</td> <td>    1.540</td>\n",
       "</tr>\n",
       "<tr>\n",
       "  <th>age</th>       <td>    0.0421</td> <td>    0.007</td> <td>    6.308</td> <td> 0.000</td> <td>    0.029</td> <td>    0.055</td>\n",
       "</tr>\n",
       "</table>"
      ],
      "text/plain": [
       "<class 'statsmodels.iolib.summary.Summary'>\n",
       "\"\"\"\n",
       "                 Generalized Linear Model Regression Results                  \n",
       "==============================================================================\n",
       "Dep. Variable:                  label   No. Observations:                  768\n",
       "Model:                            GLM   Df Residuals:                      765\n",
       "Model Family:                Binomial   Df Model:                            2\n",
       "Link Function:                  logit   Scale:                          1.0000\n",
       "Method:                          IRLS   Log-Likelihood:                -464.55\n",
       "Date:                Thu, 10 Nov 2022   Deviance:                       929.10\n",
       "Time:                        16:12:57   Pearson chi2:                     758.\n",
       "No. Iterations:                     4                                         \n",
       "Covariance Type:            nonrobust                                         \n",
       "==============================================================================\n",
       "                 coef    std err          z      P>|z|      [0.025      0.975]\n",
       "------------------------------------------------------------------------------\n",
       "Intercept     -2.5717      0.272     -9.465      0.000      -3.104      -2.039\n",
       "pedi           1.0756      0.237      4.543      0.000       0.612       1.540\n",
       "age            0.0421      0.007      6.308      0.000       0.029       0.055\n",
       "==============================================================================\n",
       "\"\"\""
      ]
     },
     "execution_count": 129,
     "metadata": {},
     "output_type": "execute_result"
    }
   ],
   "source": [
    "model = sm.GLM.from_formula(\"label ~ pedi + age\", family = sm.families.Binomial(), data = diabetes_df)\n",
    "res = model.fit()\n",
    "res.summary()"
   ]
  },
  {
   "cell_type": "code",
   "execution_count": 130,
   "id": "ea0ecec6",
   "metadata": {},
   "outputs": [
    {
     "data": {
      "text/html": [
       "<div>\n",
       "<style scoped>\n",
       "    .dataframe tbody tr th:only-of-type {\n",
       "        vertical-align: middle;\n",
       "    }\n",
       "\n",
       "    .dataframe tbody tr th {\n",
       "        vertical-align: top;\n",
       "    }\n",
       "\n",
       "    .dataframe thead th {\n",
       "        text-align: right;\n",
       "    }\n",
       "</style>\n",
       "<table border=\"1\" class=\"dataframe\">\n",
       "  <thead>\n",
       "    <tr style=\"text-align: right;\">\n",
       "      <th></th>\n",
       "      <th>OddsRatio</th>\n",
       "      <th>P &gt;|z|</th>\n",
       "      <th>2.5%</th>\n",
       "      <th>97.5%</th>\n",
       "    </tr>\n",
       "  </thead>\n",
       "  <tbody>\n",
       "    <tr>\n",
       "      <th>Intercept</th>\n",
       "      <td>0.076408</td>\n",
       "      <td>2.931380e-21</td>\n",
       "      <td>0.044861</td>\n",
       "      <td>0.130139</td>\n",
       "    </tr>\n",
       "    <tr>\n",
       "      <th>pedi</th>\n",
       "      <td>2.931847</td>\n",
       "      <td>5.532865e-06</td>\n",
       "      <td>1.843431</td>\n",
       "      <td>4.662895</td>\n",
       "    </tr>\n",
       "    <tr>\n",
       "      <th>age</th>\n",
       "      <td>1.042988</td>\n",
       "      <td>2.828964e-10</td>\n",
       "      <td>1.029437</td>\n",
       "      <td>1.056718</td>\n",
       "    </tr>\n",
       "  </tbody>\n",
       "</table>\n",
       "</div>"
      ],
      "text/plain": [
       "           OddsRatio        P >|z|      2.5%     97.5%\n",
       "Intercept   0.076408  2.931380e-21  0.044861  0.130139\n",
       "pedi        2.931847  5.532865e-06  1.843431  4.662895\n",
       "age         1.042988  2.828964e-10  1.029437  1.056718"
      ]
     },
     "execution_count": 130,
     "metadata": {},
     "output_type": "execute_result"
    }
   ],
   "source": [
    "model_stats = pd.DataFrame(np.exp(res.params), columns = [\"OddsRatio\"])\n",
    "model_stats[\"P >|z|\"] = res.pvalues\n",
    "model_stats[[\"2.5%\", \"97.5%\"]] = np.exp(res.conf_int())\n",
    "model_stats"
   ]
  },
  {
   "cell_type": "code",
   "execution_count": 131,
   "id": "d818f589",
   "metadata": {},
   "outputs": [
    {
     "data": {
      "text/plain": [
       "935.103660096041"
      ]
     },
     "execution_count": 131,
     "metadata": {},
     "output_type": "execute_result"
    }
   ],
   "source": [
    "res.aic"
   ]
  },
  {
   "cell_type": "markdown",
   "id": "5e3713be",
   "metadata": {},
   "source": [
    "After fitting different combination of features to the multiple logistic model, Model 3 with features: pedi + age has the AIC as 935.103660096041. None of the variables has a p-value bigger than 0.05."
   ]
  },
  {
   "cell_type": "markdown",
   "id": "3c62edcf",
   "metadata": {},
   "source": [
    "## Module 4"
   ]
  },
  {
   "cell_type": "code",
   "execution_count": 132,
   "id": "6771934f",
   "metadata": {},
   "outputs": [
    {
     "data": {
      "text/html": [
       "<table class=\"simpletable\">\n",
       "<caption>Generalized Linear Model Regression Results</caption>\n",
       "<tr>\n",
       "  <th>Dep. Variable:</th>         <td>label</td>      <th>  No. Observations:  </th>  <td>   768</td> \n",
       "</tr>\n",
       "<tr>\n",
       "  <th>Model:</th>                  <td>GLM</td>       <th>  Df Residuals:      </th>  <td>   762</td> \n",
       "</tr>\n",
       "<tr>\n",
       "  <th>Model Family:</th>        <td>Binomial</td>     <th>  Df Model:          </th>  <td>     5</td> \n",
       "</tr>\n",
       "<tr>\n",
       "  <th>Link Function:</th>         <td>logit</td>      <th>  Scale:             </th> <td>  1.0000</td>\n",
       "</tr>\n",
       "<tr>\n",
       "  <th>Method:</th>                <td>IRLS</td>       <th>  Log-Likelihood:    </th> <td> -389.05</td>\n",
       "</tr>\n",
       "<tr>\n",
       "  <th>Date:</th>            <td>Thu, 10 Nov 2022</td> <th>  Deviance:          </th> <td>  778.09</td>\n",
       "</tr>\n",
       "<tr>\n",
       "  <th>Time:</th>                <td>16:13:02</td>     <th>  Pearson chi2:      </th> <td>1.00e+03</td>\n",
       "</tr>\n",
       "<tr>\n",
       "  <th>No. Iterations:</th>          <td>5</td>        <th>                     </th>     <td> </td>   \n",
       "</tr>\n",
       "<tr>\n",
       "  <th>Covariance Type:</th>     <td>nonrobust</td>    <th>                     </th>     <td> </td>   \n",
       "</tr>\n",
       "</table>\n",
       "<table class=\"simpletable\">\n",
       "<tr>\n",
       "      <td></td>         <th>coef</th>     <th>std err</th>      <th>z</th>      <th>P>|z|</th>  <th>[0.025</th>    <th>0.975]</th>  \n",
       "</tr>\n",
       "<tr>\n",
       "  <th>Intercept</th> <td>   -5.7753</td> <td>    0.520</td> <td>  -11.108</td> <td> 0.000</td> <td>   -6.794</td> <td>   -4.756</td>\n",
       "</tr>\n",
       "<tr>\n",
       "  <th>preg</th>      <td>    0.1308</td> <td>    0.026</td> <td>    4.945</td> <td> 0.000</td> <td>    0.079</td> <td>    0.183</td>\n",
       "</tr>\n",
       "<tr>\n",
       "  <th>plas</th>      <td>    0.0390</td> <td>    0.004</td> <td>   10.947</td> <td> 0.000</td> <td>    0.032</td> <td>    0.046</td>\n",
       "</tr>\n",
       "<tr>\n",
       "  <th>pres</th>      <td>   -0.0066</td> <td>    0.005</td> <td>   -1.426</td> <td> 0.154</td> <td>   -0.016</td> <td>    0.002</td>\n",
       "</tr>\n",
       "<tr>\n",
       "  <th>skin</th>      <td>    0.0153</td> <td>    0.006</td> <td>    2.397</td> <td> 0.017</td> <td>    0.003</td> <td>    0.028</td>\n",
       "</tr>\n",
       "<tr>\n",
       "  <th>insu</th>      <td>   -0.0012</td> <td>    0.001</td> <td>   -1.406</td> <td> 0.160</td> <td>   -0.003</td> <td>    0.000</td>\n",
       "</tr>\n",
       "</table>"
      ],
      "text/plain": [
       "<class 'statsmodels.iolib.summary.Summary'>\n",
       "\"\"\"\n",
       "                 Generalized Linear Model Regression Results                  \n",
       "==============================================================================\n",
       "Dep. Variable:                  label   No. Observations:                  768\n",
       "Model:                            GLM   Df Residuals:                      762\n",
       "Model Family:                Binomial   Df Model:                            5\n",
       "Link Function:                  logit   Scale:                          1.0000\n",
       "Method:                          IRLS   Log-Likelihood:                -389.05\n",
       "Date:                Thu, 10 Nov 2022   Deviance:                       778.09\n",
       "Time:                        16:13:02   Pearson chi2:                 1.00e+03\n",
       "No. Iterations:                     5                                         \n",
       "Covariance Type:            nonrobust                                         \n",
       "==============================================================================\n",
       "                 coef    std err          z      P>|z|      [0.025      0.975]\n",
       "------------------------------------------------------------------------------\n",
       "Intercept     -5.7753      0.520    -11.108      0.000      -6.794      -4.756\n",
       "preg           0.1308      0.026      4.945      0.000       0.079       0.183\n",
       "plas           0.0390      0.004     10.947      0.000       0.032       0.046\n",
       "pres          -0.0066      0.005     -1.426      0.154      -0.016       0.002\n",
       "skin           0.0153      0.006      2.397      0.017       0.003       0.028\n",
       "insu          -0.0012      0.001     -1.406      0.160      -0.003       0.000\n",
       "==============================================================================\n",
       "\"\"\""
      ]
     },
     "execution_count": 132,
     "metadata": {},
     "output_type": "execute_result"
    }
   ],
   "source": [
    "model = sm.GLM.from_formula(\"label ~ preg + plas + pres + skin + insu\", family = sm.families.Binomial(), data = diabetes_df)\n",
    "res = model.fit()\n",
    "res.summary()"
   ]
  },
  {
   "cell_type": "code",
   "execution_count": 133,
   "id": "65b7e60e",
   "metadata": {},
   "outputs": [
    {
     "data": {
      "text/html": [
       "<div>\n",
       "<style scoped>\n",
       "    .dataframe tbody tr th:only-of-type {\n",
       "        vertical-align: middle;\n",
       "    }\n",
       "\n",
       "    .dataframe tbody tr th {\n",
       "        vertical-align: top;\n",
       "    }\n",
       "\n",
       "    .dataframe thead th {\n",
       "        text-align: right;\n",
       "    }\n",
       "</style>\n",
       "<table border=\"1\" class=\"dataframe\">\n",
       "  <thead>\n",
       "    <tr style=\"text-align: right;\">\n",
       "      <th></th>\n",
       "      <th>OddsRatio</th>\n",
       "      <th>P &gt;|z|</th>\n",
       "      <th>2.5%</th>\n",
       "      <th>97.5%</th>\n",
       "    </tr>\n",
       "  </thead>\n",
       "  <tbody>\n",
       "    <tr>\n",
       "      <th>Intercept</th>\n",
       "      <td>0.003103</td>\n",
       "      <td>1.149423e-28</td>\n",
       "      <td>0.001120</td>\n",
       "      <td>0.008597</td>\n",
       "    </tr>\n",
       "    <tr>\n",
       "      <th>preg</th>\n",
       "      <td>1.139741</td>\n",
       "      <td>7.595940e-07</td>\n",
       "      <td>1.082164</td>\n",
       "      <td>1.200382</td>\n",
       "    </tr>\n",
       "    <tr>\n",
       "      <th>plas</th>\n",
       "      <td>1.039797</td>\n",
       "      <td>6.852876e-28</td>\n",
       "      <td>1.032558</td>\n",
       "      <td>1.047088</td>\n",
       "    </tr>\n",
       "    <tr>\n",
       "      <th>pres</th>\n",
       "      <td>0.993378</td>\n",
       "      <td>1.538144e-01</td>\n",
       "      <td>0.984349</td>\n",
       "      <td>1.002490</td>\n",
       "    </tr>\n",
       "    <tr>\n",
       "      <th>skin</th>\n",
       "      <td>1.015372</td>\n",
       "      <td>1.654819e-02</td>\n",
       "      <td>1.002783</td>\n",
       "      <td>1.028119</td>\n",
       "    </tr>\n",
       "    <tr>\n",
       "      <th>insu</th>\n",
       "      <td>0.998792</td>\n",
       "      <td>1.596727e-01</td>\n",
       "      <td>0.997112</td>\n",
       "      <td>1.000476</td>\n",
       "    </tr>\n",
       "  </tbody>\n",
       "</table>\n",
       "</div>"
      ],
      "text/plain": [
       "           OddsRatio        P >|z|      2.5%     97.5%\n",
       "Intercept   0.003103  1.149423e-28  0.001120  0.008597\n",
       "preg        1.139741  7.595940e-07  1.082164  1.200382\n",
       "plas        1.039797  6.852876e-28  1.032558  1.047088\n",
       "pres        0.993378  1.538144e-01  0.984349  1.002490\n",
       "skin        1.015372  1.654819e-02  1.002783  1.028119\n",
       "insu        0.998792  1.596727e-01  0.997112  1.000476"
      ]
     },
     "execution_count": 133,
     "metadata": {},
     "output_type": "execute_result"
    }
   ],
   "source": [
    "model_stats = pd.DataFrame(np.exp(res.params), columns = [\"OddsRatio\"])\n",
    "model_stats[\"P >|z|\"] = res.pvalues\n",
    "model_stats[[\"2.5%\", \"97.5%\"]] = np.exp(res.conf_int())\n",
    "model_stats"
   ]
  },
  {
   "cell_type": "code",
   "execution_count": 134,
   "id": "cf8d4887",
   "metadata": {},
   "outputs": [
    {
     "data": {
      "text/plain": [
       "790.090700166048"
      ]
     },
     "execution_count": 134,
     "metadata": {},
     "output_type": "execute_result"
    }
   ],
   "source": [
    "res.aic"
   ]
  },
  {
   "cell_type": "markdown",
   "id": "eaf52f29",
   "metadata": {},
   "source": [
    "After fitting different combination of features to the multiple logistic model, Model 4 with features: preg + plas + pres + skin + insu has the AIC as 790.090700166048. None of the variables has a p-value bigger than 0.05."
   ]
  },
  {
   "cell_type": "markdown",
   "id": "3f7bd4ab",
   "metadata": {},
   "source": [
    "## Module 5"
   ]
  },
  {
   "cell_type": "code",
   "execution_count": 141,
   "id": "eb8c8276",
   "metadata": {},
   "outputs": [
    {
     "data": {
      "text/html": [
       "<table class=\"simpletable\">\n",
       "<caption>Generalized Linear Model Regression Results</caption>\n",
       "<tr>\n",
       "  <th>Dep. Variable:</th>         <td>label</td>      <th>  No. Observations:  </th>  <td>   768</td> \n",
       "</tr>\n",
       "<tr>\n",
       "  <th>Model:</th>                  <td>GLM</td>       <th>  Df Residuals:      </th>  <td>   764</td> \n",
       "</tr>\n",
       "<tr>\n",
       "  <th>Model Family:</th>        <td>Binomial</td>     <th>  Df Model:          </th>  <td>     3</td> \n",
       "</tr>\n",
       "<tr>\n",
       "  <th>Link Function:</th>         <td>logit</td>      <th>  Scale:             </th> <td>  1.0000</td>\n",
       "</tr>\n",
       "<tr>\n",
       "  <th>Method:</th>                <td>IRLS</td>       <th>  Log-Likelihood:    </th> <td> -469.23</td>\n",
       "</tr>\n",
       "<tr>\n",
       "  <th>Date:</th>            <td>Thu, 10 Nov 2022</td> <th>  Deviance:          </th> <td>  938.45</td>\n",
       "</tr>\n",
       "<tr>\n",
       "  <th>Time:</th>                <td>16:48:01</td>     <th>  Pearson chi2:      </th>  <td>  772.</td> \n",
       "</tr>\n",
       "<tr>\n",
       "  <th>No. Iterations:</th>          <td>4</td>        <th>                     </th>     <td> </td>   \n",
       "</tr>\n",
       "<tr>\n",
       "  <th>Covariance Type:</th>     <td>nonrobust</td>    <th>                     </th>     <td> </td>   \n",
       "</tr>\n",
       "</table>\n",
       "<table class=\"simpletable\">\n",
       "<tr>\n",
       "      <td></td>         <th>coef</th>     <th>std err</th>      <th>z</th>      <th>P>|z|</th>  <th>[0.025</th>    <th>0.975]</th>  \n",
       "</tr>\n",
       "<tr>\n",
       "  <th>Intercept</th> <td>   -1.5303</td> <td>    0.172</td> <td>   -8.910</td> <td> 0.000</td> <td>   -1.867</td> <td>   -1.194</td>\n",
       "</tr>\n",
       "<tr>\n",
       "  <th>preg</th>      <td>    0.1483</td> <td>    0.023</td> <td>    6.318</td> <td> 0.000</td> <td>    0.102</td> <td>    0.194</td>\n",
       "</tr>\n",
       "<tr>\n",
       "  <th>skin</th>      <td>    0.0052</td> <td>    0.006</td> <td>    0.943</td> <td> 0.346</td> <td>   -0.006</td> <td>    0.016</td>\n",
       "</tr>\n",
       "<tr>\n",
       "  <th>insu</th>      <td>    0.0024</td> <td>    0.001</td> <td>    3.256</td> <td> 0.001</td> <td>    0.001</td> <td>    0.004</td>\n",
       "</tr>\n",
       "</table>"
      ],
      "text/plain": [
       "<class 'statsmodels.iolib.summary.Summary'>\n",
       "\"\"\"\n",
       "                 Generalized Linear Model Regression Results                  \n",
       "==============================================================================\n",
       "Dep. Variable:                  label   No. Observations:                  768\n",
       "Model:                            GLM   Df Residuals:                      764\n",
       "Model Family:                Binomial   Df Model:                            3\n",
       "Link Function:                  logit   Scale:                          1.0000\n",
       "Method:                          IRLS   Log-Likelihood:                -469.23\n",
       "Date:                Thu, 10 Nov 2022   Deviance:                       938.45\n",
       "Time:                        16:48:01   Pearson chi2:                     772.\n",
       "No. Iterations:                     4                                         \n",
       "Covariance Type:            nonrobust                                         \n",
       "==============================================================================\n",
       "                 coef    std err          z      P>|z|      [0.025      0.975]\n",
       "------------------------------------------------------------------------------\n",
       "Intercept     -1.5303      0.172     -8.910      0.000      -1.867      -1.194\n",
       "preg           0.1483      0.023      6.318      0.000       0.102       0.194\n",
       "skin           0.0052      0.006      0.943      0.346      -0.006       0.016\n",
       "insu           0.0024      0.001      3.256      0.001       0.001       0.004\n",
       "==============================================================================\n",
       "\"\"\""
      ]
     },
     "execution_count": 141,
     "metadata": {},
     "output_type": "execute_result"
    }
   ],
   "source": [
    "model = sm.GLM.from_formula(\"label ~ preg + skin + insu\", family = sm.families.Binomial(), data = diabetes_df)\n",
    "res = model.fit()\n",
    "res.summary()"
   ]
  },
  {
   "cell_type": "code",
   "execution_count": 142,
   "id": "904848fd",
   "metadata": {},
   "outputs": [
    {
     "data": {
      "text/html": [
       "<div>\n",
       "<style scoped>\n",
       "    .dataframe tbody tr th:only-of-type {\n",
       "        vertical-align: middle;\n",
       "    }\n",
       "\n",
       "    .dataframe tbody tr th {\n",
       "        vertical-align: top;\n",
       "    }\n",
       "\n",
       "    .dataframe thead th {\n",
       "        text-align: right;\n",
       "    }\n",
       "</style>\n",
       "<table border=\"1\" class=\"dataframe\">\n",
       "  <thead>\n",
       "    <tr style=\"text-align: right;\">\n",
       "      <th></th>\n",
       "      <th>OddsRatio</th>\n",
       "      <th>P &gt;|z|</th>\n",
       "      <th>2.5%</th>\n",
       "      <th>97.5%</th>\n",
       "    </tr>\n",
       "  </thead>\n",
       "  <tbody>\n",
       "    <tr>\n",
       "      <th>Intercept</th>\n",
       "      <td>0.216481</td>\n",
       "      <td>5.108384e-19</td>\n",
       "      <td>0.154607</td>\n",
       "      <td>0.303118</td>\n",
       "    </tr>\n",
       "    <tr>\n",
       "      <th>preg</th>\n",
       "      <td>1.159847</td>\n",
       "      <td>2.643039e-10</td>\n",
       "      <td>1.107703</td>\n",
       "      <td>1.214444</td>\n",
       "    </tr>\n",
       "    <tr>\n",
       "      <th>skin</th>\n",
       "      <td>1.005200</td>\n",
       "      <td>3.457878e-01</td>\n",
       "      <td>0.994420</td>\n",
       "      <td>1.016095</td>\n",
       "    </tr>\n",
       "    <tr>\n",
       "      <th>insu</th>\n",
       "      <td>1.002421</td>\n",
       "      <td>1.131610e-03</td>\n",
       "      <td>1.000963</td>\n",
       "      <td>1.003881</td>\n",
       "    </tr>\n",
       "  </tbody>\n",
       "</table>\n",
       "</div>"
      ],
      "text/plain": [
       "           OddsRatio        P >|z|      2.5%     97.5%\n",
       "Intercept   0.216481  5.108384e-19  0.154607  0.303118\n",
       "preg        1.159847  2.643039e-10  1.107703  1.214444\n",
       "skin        1.005200  3.457878e-01  0.994420  1.016095\n",
       "insu        1.002421  1.131610e-03  1.000963  1.003881"
      ]
     },
     "execution_count": 142,
     "metadata": {},
     "output_type": "execute_result"
    }
   ],
   "source": [
    "model_stats = pd.DataFrame(np.exp(res.params), columns = [\"OddsRatio\"])\n",
    "model_stats[\"P >|z|\"] = res.pvalues\n",
    "model_stats[[\"2.5%\", \"97.5%\"]] = np.exp(res.conf_int())\n",
    "model_stats"
   ]
  },
  {
   "cell_type": "code",
   "execution_count": 143,
   "id": "3feb36d7",
   "metadata": {},
   "outputs": [
    {
     "data": {
      "text/plain": [
       "946.4545164725346"
      ]
     },
     "execution_count": 143,
     "metadata": {},
     "output_type": "execute_result"
    }
   ],
   "source": [
    "res.aic"
   ]
  },
  {
   "cell_type": "markdown",
   "id": "e1f10c12",
   "metadata": {},
   "source": [
    "After fitting different combination of features to the multiple logistic model, Model 5 with features: preg + skin + insu has the AIC as 946.4545164725346. skin has a p-value bigger than 0.05."
   ]
  },
  {
   "cell_type": "markdown",
   "id": "1edba1ab",
   "metadata": {},
   "source": [
    "However, we choose module 4 as the best since it has the lowest AIC : 790.090700166048."
   ]
  }
 ],
 "metadata": {
  "kernelspec": {
   "display_name": "Python 3",
   "language": "python",
   "name": "python3"
  },
  "language_info": {
   "codemirror_mode": {
    "name": "ipython",
    "version": 3
   },
   "file_extension": ".py",
   "mimetype": "text/x-python",
   "name": "python",
   "nbconvert_exporter": "python",
   "pygments_lexer": "ipython3",
   "version": "3.8.8"
  }
 },
 "nbformat": 4,
 "nbformat_minor": 5
}
